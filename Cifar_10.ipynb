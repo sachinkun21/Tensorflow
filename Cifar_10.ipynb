{
  "nbformat": 4,
  "nbformat_minor": 0,
  "metadata": {
    "kernelspec": {
      "display_name": "Python NNs venv",
      "language": "python",
      "name": "rnn_venv"
    },
    "language_info": {
      "codemirror_mode": {
        "name": "ipython",
        "version": 3
      },
      "file_extension": ".py",
      "mimetype": "text/x-python",
      "name": "python",
      "nbconvert_exporter": "python",
      "pygments_lexer": "ipython3",
      "version": "3.6.5"
    },
    "colab": {
      "name": "Cifar_10.ipynb",
      "provenance": [],
      "include_colab_link": true
    },
    "accelerator": "GPU"
  },
  "cells": [
    {
      "cell_type": "markdown",
      "metadata": {
        "id": "view-in-github",
        "colab_type": "text"
      },
      "source": [
        "<a href=\"https://colab.research.google.com/github/sachinkun21/Tensorflow/blob/master/Cifar_10.ipynb\" target=\"_parent\"><img src=\"https://colab.research.google.com/assets/colab-badge.svg\" alt=\"Open In Colab\"/></a>"
      ]
    },
    {
      "cell_type": "code",
      "metadata": {
        "id": "07dmQ5wZlKQL",
        "colab_type": "code",
        "outputId": "69855555-5851-49ca-fdbd-af41aae55865",
        "colab": {
          "base_uri": "https://localhost:8080/",
          "height": 34
        }
      },
      "source": [
        "# import libraries\n",
        "from __future__ import print_function\n",
        "import keras\n",
        "from keras.datasets import cifar10\n",
        "from keras.preprocessing.image import ImageDataGenerator\n",
        "from keras.models import Sequential\n",
        "from keras.layers import Dense, Dropout, Activation, Flatten\n",
        "from keras.layers import Conv2D, MaxPooling2D\n",
        "from keras.layers.normalization import BatchNormalization\n",
        "from keras.regularizers import l2\n",
        "import numpy as np\n",
        "import os\n",
        "import matplotlib.pyplot as plt\n",
        "%matplotlib inline"
      ],
      "execution_count": 1,
      "outputs": [
        {
          "output_type": "stream",
          "text": [
            "Using TensorFlow backend.\n"
          ],
          "name": "stderr"
        }
      ]
    },
    {
      "cell_type": "code",
      "metadata": {
        "id": "q88yO7GolKQS",
        "colab_type": "code",
        "colab": {}
      },
      "source": [
        "# batch, classes, epochs\n",
        "batch_size = 32\n",
        "num_classes = 10\n",
        "epochs = 200"
      ],
      "execution_count": 0,
      "outputs": []
    },
    {
      "cell_type": "code",
      "metadata": {
        "id": "eYSekpQ7lKQW",
        "colab_type": "code",
        "outputId": "d0f87d26-d72d-4a02-e891-ecb71414ffa1",
        "colab": {
          "base_uri": "https://localhost:8080/",
          "height": 68
        }
      },
      "source": [
        "# The data, split between train and test sets:\n",
        "(x_train, y_train), (x_test, y_test) = cifar10.load_data()\n",
        "print('x_train shape:', x_train.shape)\n",
        "print(x_train.shape[0], 'train samples')\n",
        "print(x_test.shape[0], 'test samples')"
      ],
      "execution_count": 3,
      "outputs": [
        {
          "output_type": "stream",
          "text": [
            "x_train shape: (50000, 32, 32, 3)\n",
            "50000 train samples\n",
            "10000 test samples\n"
          ],
          "name": "stdout"
        }
      ]
    },
    {
      "cell_type": "code",
      "metadata": {
        "id": "LKBGoTx7lgep",
        "colab_type": "code",
        "outputId": "dc63529b-f98c-4c35-aca7-e9fc46f41b15",
        "colab": {
          "base_uri": "https://localhost:8080/",
          "height": 34
        }
      },
      "source": [
        "x_train[0].shape,y_train[0]"
      ],
      "execution_count": 4,
      "outputs": [
        {
          "output_type": "execute_result",
          "data": {
            "text/plain": [
              "((32, 32, 3), array([6], dtype=uint8))"
            ]
          },
          "metadata": {
            "tags": []
          },
          "execution_count": 4
        }
      ]
    },
    {
      "cell_type": "code",
      "metadata": {
        "id": "hlHtdwdu_e0k",
        "colab_type": "code",
        "outputId": "f0e38290-8ed0-4a83-b657-b3d20ab4d946",
        "colab": {
          "base_uri": "https://localhost:8080/",
          "height": 34
        }
      },
      "source": [
        "np.where(y_train==5)[0]"
      ],
      "execution_count": 5,
      "outputs": [
        {
          "output_type": "execute_result",
          "data": {
            "text/plain": [
              "array([   27,    40,    51, ..., 49964, 49980, 49988])"
            ]
          },
          "metadata": {
            "tags": []
          },
          "execution_count": 5
        }
      ]
    },
    {
      "cell_type": "code",
      "metadata": {
        "id": "i9eNQUcPlKQb",
        "colab_type": "code",
        "outputId": "2e4b11fd-b58e-426d-fdc9-7fd3196eb6c0",
        "colab": {
          "base_uri": "https://localhost:8080/",
          "height": 213
        }
      },
      "source": [
        "# plotting some random 10 images\n",
        "class_names = ['airplane','automobile','bird','cat','deer',\n",
        "               'dog','frog','horse','ship','truck']\n",
        "\n",
        "fig = plt.figure(figsize=(8,3))\n",
        "for i in range(num_classes):\n",
        "    ax = fig.add_subplot(2, 5, 1 + i, xticks=[], yticks=[])\n",
        "    idx = np.where(y_train[:]==i)[0]\n",
        "    img_num = idx[np.random.randint(idx.shape[0])]\n",
        "    im = x_train[img_num,::]\n",
        "    ax.set_title(class_names[i])\n",
        "    plt.imshow(im)\n",
        "plt.show()"
      ],
      "execution_count": 6,
      "outputs": [
        {
          "output_type": "display_data",
          "data": {
            "image/png": "[encoded data removed]",
            "text/plain": [
              "<Figure size 576x216 with 10 Axes>"
            ]
          },
          "metadata": {
            "tags": []
          }
        }
      ]
    },
    {
      "cell_type": "markdown",
      "metadata": {
        "id": "xGcEuyWZA7sP",
        "colab_type": "text"
      },
      "source": [
        "### Let's convert the labels to categorical array"
      ]
    },
    {
      "cell_type": "code",
      "metadata": {
        "id": "itAwcbfslfbH",
        "colab_type": "code",
        "outputId": "120f4bc3-99c9-40dc-8e60-edc9755a278d",
        "colab": {
          "base_uri": "https://localhost:8080/",
          "height": 51
        }
      },
      "source": [
        "y_train[:2]"
      ],
      "execution_count": 7,
      "outputs": [
        {
          "output_type": "execute_result",
          "data": {
            "text/plain": [
              "array([[6],\n",
              "       [9]], dtype=uint8)"
            ]
          },
          "metadata": {
            "tags": []
          },
          "execution_count": 7
        }
      ]
    },
    {
      "cell_type": "code",
      "metadata": {
        "id": "U86yBtkYlKQg",
        "colab_type": "code",
        "outputId": "60b9ffb9-d6a4-477a-cd4d-f5154bd1ec12",
        "colab": {
          "base_uri": "https://localhost:8080/",
          "height": 51
        }
      },
      "source": [
        "# Convert class vectors to binary class matrices.\n",
        "y_train = keras.utils.to_categorical(y_train, num_classes)\n",
        "y_test = keras.utils.to_categorical(y_test, num_classes)\n",
        "\n",
        "# let's print top 2 rows\n",
        "y_train[:2]"
      ],
      "execution_count": 8,
      "outputs": [
        {
          "output_type": "execute_result",
          "data": {
            "text/plain": [
              "array([[0., 0., 0., 0., 0., 0., 1., 0., 0., 0.],\n",
              "       [0., 0., 0., 0., 0., 0., 0., 0., 0., 1.]], dtype=float32)"
            ]
          },
          "metadata": {
            "tags": []
          },
          "execution_count": 8
        }
      ]
    },
    {
      "cell_type": "code",
      "metadata": {
        "id": "uadxaxZceFLk",
        "colab_type": "code",
        "outputId": "3877bbe5-97f6-44b9-b8c5-5455997c752d",
        "colab": {
          "base_uri": "https://localhost:8080/",
          "height": 34
        }
      },
      "source": [
        "x_train.shape[1:]"
      ],
      "execution_count": 9,
      "outputs": [
        {
          "output_type": "execute_result",
          "data": {
            "text/plain": [
              "(32, 32, 3)"
            ]
          },
          "metadata": {
            "tags": []
          },
          "execution_count": 9
        }
      ]
    },
    {
      "cell_type": "code",
      "metadata": {
        "id": "LU5VAPqplKQk",
        "colab_type": "code",
        "colab": {}
      },
      "source": [
        "# model architecture\n",
        "model = Sequential()\n",
        "model.add(Conv2D(64, (3, 3), padding='same',\n",
        "                 input_shape=x_train.shape[1:]))\n",
        "model.add(Activation('relu'))\n",
        "model.add(BatchNormalization())\n",
        "model.add(Conv2D(64, (3, 3)))\n",
        "model.add(Activation('relu'))\n",
        "model.add(MaxPooling2D(pool_size=(2, 2)))\n",
        "model.add(Dropout(0.25))\n",
        "\n",
        "model.add(Conv2D(128, (3, 3), padding='same'))\n",
        "model.add(Activation('relu'))\n",
        "model.add(Conv2D(128, (3, 3)))\n",
        "model.add(Activation('relu'))\n",
        "model.add(MaxPooling2D(pool_size=(2, 2)))\n",
        "model.add(Dropout(0.20))\n",
        "\n",
        "model.add(Flatten())\n",
        "model.add(Dense(512,kernel_regularizer=l2(0.01)))\n",
        "model.add(Activation('relu'))\n",
        "model.add(Dropout(0.2))\n",
        "model.add(Dense(256))\n",
        "model.add(Activation('relu'))\n",
        "model.add(Dense(num_classes))\n",
        "model.add(Activation('softmax'))"
      ],
      "execution_count": 0,
      "outputs": []
    },
    {
      "cell_type": "code",
      "metadata": {
        "id": "yI8MVOfRlKQo",
        "colab_type": "code",
        "outputId": "2ef5649f-1360-49bb-88d3-4bdca3b54ffe",
        "colab": {
          "base_uri": "https://localhost:8080/",
          "height": 867
        }
      },
      "source": [
        "# summary\n",
        "model.summary()"
      ],
      "execution_count": 11,
      "outputs": [
        {
          "output_type": "stream",
          "text": [
            "Model: \"sequential_1\"\n",
            "_________________________________________________________________\n",
            "Layer (type)                 Output Shape              Param #   \n",
            "=================================================================\n",
            "conv2d_1 (Conv2D)            (None, 32, 32, 64)        1792      \n",
            "_________________________________________________________________\n",
            "activation_1 (Activation)    (None, 32, 32, 64)        0         \n",
            "_________________________________________________________________\n",
            "batch_normalization_1 (Batch (None, 32, 32, 64)        256       \n",
            "_________________________________________________________________\n",
            "conv2d_2 (Conv2D)            (None, 30, 30, 64)        36928     \n",
            "_________________________________________________________________\n",
            "activation_2 (Activation)    (None, 30, 30, 64)        0         \n",
            "_________________________________________________________________\n",
            "max_pooling2d_1 (MaxPooling2 (None, 15, 15, 64)        0         \n",
            "_________________________________________________________________\n",
            "dropout_1 (Dropout)          (None, 15, 15, 64)        0         \n",
            "_________________________________________________________________\n",
            "conv2d_3 (Conv2D)            (None, 15, 15, 128)       73856     \n",
            "_________________________________________________________________\n",
            "activation_3 (Activation)    (None, 15, 15, 128)       0         \n",
            "_________________________________________________________________\n",
            "conv2d_4 (Conv2D)            (None, 13, 13, 128)       147584    \n",
            "_________________________________________________________________\n",
            "activation_4 (Activation)    (None, 13, 13, 128)       0         \n",
            "_________________________________________________________________\n",
            "max_pooling2d_2 (MaxPooling2 (None, 6, 6, 128)         0         \n",
            "_________________________________________________________________\n",
            "dropout_2 (Dropout)          (None, 6, 6, 128)         0         \n",
            "_________________________________________________________________\n",
            "flatten_1 (Flatten)          (None, 4608)              0         \n",
            "_________________________________________________________________\n",
            "dense_1 (Dense)              (None, 512)               2359808   \n",
            "_________________________________________________________________\n",
            "activation_5 (Activation)    (None, 512)               0         \n",
            "_________________________________________________________________\n",
            "dropout_3 (Dropout)          (None, 512)               0         \n",
            "_________________________________________________________________\n",
            "dense_2 (Dense)              (None, 256)               131328    \n",
            "_________________________________________________________________\n",
            "activation_6 (Activation)    (None, 256)               0         \n",
            "_________________________________________________________________\n",
            "dense_3 (Dense)              (None, 10)                2570      \n",
            "_________________________________________________________________\n",
            "activation_7 (Activation)    (None, 10)                0         \n",
            "=================================================================\n",
            "Total params: 2,754,122\n",
            "Trainable params: 2,753,994\n",
            "Non-trainable params: 128\n",
            "_________________________________________________________________\n"
          ],
          "name": "stdout"
        }
      ]
    },
    {
      "cell_type": "code",
      "metadata": {
        "id": "PGFzttzUlKQt",
        "colab_type": "code",
        "colab": {}
      },
      "source": [
        "# compile the model\n",
        "model.compile(loss='categorical_crossentropy',\n",
        "              optimizer='adam',\n",
        "              metrics=['accuracy'])\n",
        "\n",
        "# convert to float, normalise the data\n",
        "x_train = x_train.astype('float32')\n",
        "x_test = x_test.astype('float32')\n",
        "x_train /= 255\n",
        "x_test /= 255\n"
      ],
      "execution_count": 0,
      "outputs": []
    },
    {
      "cell_type": "markdown",
      "metadata": {
        "id": "wRmR0XfMP5NR",
        "colab_type": "text"
      },
      "source": [
        "### Let's start the Training:"
      ]
    },
    {
      "cell_type": "code",
      "metadata": {
        "id": "gLPv_ayvlKQy",
        "colab_type": "code",
        "outputId": "086f1fa4-86a7-4969-eb03-b864c77fdcb3",
        "colab": {
          "base_uri": "https://localhost:8080/",
          "height": 1000
        }
      },
      "source": [
        "# train \n",
        "model.fit(x_train, y_train,\n",
        "              batch_size=batch_size,\n",
        "              epochs=epochs,\n",
        "              validation_data=(x_test, y_test),\n",
        "              shuffle=True)"
      ],
      "execution_count": 13,
      "outputs": [
        {
          "output_type": "stream",
          "text": [
            "Train on 50000 samples, validate on 10000 samples\n",
            "Epoch 1/200\n",
            "50000/50000 [==============================] - 23s 465us/step - loss: 1.8483 - accuracy: 0.4702 - val_loss: 1.5248 - val_accuracy: 0.5523\n",
            "Epoch 2/200\n",
            "50000/50000 [==============================] - 21s 411us/step - loss: 1.3981 - accuracy: 0.6054 - val_loss: 1.2765 - val_accuracy: 0.6549\n",
            "Epoch 3/200\n",
            "50000/50000 [==============================] - 21s 411us/step - loss: 1.2748 - accuracy: 0.6534 - val_loss: 1.3088 - val_accuracy: 0.6500\n",
            "Epoch 4/200\n",
            "50000/50000 [==============================] - 21s 415us/step - loss: 1.2037 - accuracy: 0.6797 - val_loss: 1.1581 - val_accuracy: 0.6968\n",
            "Epoch 5/200\n",
            "50000/50000 [==============================] - 21s 416us/step - loss: 1.1528 - accuracy: 0.6950 - val_loss: 1.0845 - val_accuracy: 0.7205\n",
            "Epoch 6/200\n",
            "50000/50000 [==============================] - 21s 412us/step - loss: 1.1172 - accuracy: 0.7086 - val_loss: 1.1468 - val_accuracy: 0.7015\n",
            "Epoch 7/200\n",
            "50000/50000 [==============================] - 21s 411us/step - loss: 1.0935 - accuracy: 0.7180 - val_loss: 1.1145 - val_accuracy: 0.7030\n",
            "Epoch 8/200\n",
            "50000/50000 [==============================] - 21s 414us/step - loss: 1.0606 - accuracy: 0.7267 - val_loss: 1.1157 - val_accuracy: 0.7185\n",
            "Epoch 9/200\n",
            "50000/50000 [==============================] - 21s 411us/step - loss: 1.0499 - accuracy: 0.7341 - val_loss: 1.0196 - val_accuracy: 0.7408\n",
            "Epoch 10/200\n",
            "50000/50000 [==============================] - 21s 411us/step - loss: 1.0250 - accuracy: 0.7419 - val_loss: 1.0500 - val_accuracy: 0.7406\n",
            "Epoch 11/200\n",
            "50000/50000 [==============================] - 21s 412us/step - loss: 1.0093 - accuracy: 0.7495 - val_loss: 1.0154 - val_accuracy: 0.7588\n",
            "Epoch 12/200\n",
            "50000/50000 [==============================] - 21s 414us/step - loss: 0.9950 - accuracy: 0.7558 - val_loss: 1.0105 - val_accuracy: 0.7478\n",
            "Epoch 13/200\n",
            "50000/50000 [==============================] - 21s 412us/step - loss: 0.9779 - accuracy: 0.7626 - val_loss: 1.0427 - val_accuracy: 0.7396\n",
            "Epoch 14/200\n",
            "50000/50000 [==============================] - 21s 412us/step - loss: 0.9610 - accuracy: 0.7659 - val_loss: 1.0140 - val_accuracy: 0.7478\n",
            "Epoch 15/200\n",
            "50000/50000 [==============================] - 21s 413us/step - loss: 0.9397 - accuracy: 0.7705 - val_loss: 0.9571 - val_accuracy: 0.7726\n",
            "Epoch 16/200\n",
            "50000/50000 [==============================] - 21s 414us/step - loss: 0.9446 - accuracy: 0.7744 - val_loss: 1.0134 - val_accuracy: 0.7513\n",
            "Epoch 17/200\n",
            "50000/50000 [==============================] - 21s 413us/step - loss: 0.9280 - accuracy: 0.7788 - val_loss: 0.9407 - val_accuracy: 0.7719\n",
            "Epoch 18/200\n",
            "50000/50000 [==============================] - 21s 414us/step - loss: 0.9160 - accuracy: 0.7808 - val_loss: 0.9422 - val_accuracy: 0.7739\n",
            "Epoch 19/200\n",
            "50000/50000 [==============================] - 21s 419us/step - loss: 0.9034 - accuracy: 0.7862 - val_loss: 1.0704 - val_accuracy: 0.7294\n",
            "Epoch 20/200\n",
            "50000/50000 [==============================] - 21s 421us/step - loss: 0.8993 - accuracy: 0.7877 - val_loss: 0.9590 - val_accuracy: 0.7698\n",
            "Epoch 21/200\n",
            "50000/50000 [==============================] - 21s 413us/step - loss: 0.8836 - accuracy: 0.7919 - val_loss: 1.0105 - val_accuracy: 0.7615\n",
            "Epoch 22/200\n",
            "50000/50000 [==============================] - 21s 413us/step - loss: 0.8802 - accuracy: 0.7954 - val_loss: 0.9308 - val_accuracy: 0.7814\n",
            "Epoch 23/200\n",
            "50000/50000 [==============================] - 21s 415us/step - loss: 0.8695 - accuracy: 0.7982 - val_loss: 0.9388 - val_accuracy: 0.7738\n",
            "Epoch 24/200\n",
            "50000/50000 [==============================] - 21s 414us/step - loss: 0.8532 - accuracy: 0.8018 - val_loss: 0.9484 - val_accuracy: 0.7749\n",
            "Epoch 25/200\n",
            "50000/50000 [==============================] - 21s 413us/step - loss: 0.8525 - accuracy: 0.8039 - val_loss: 0.9377 - val_accuracy: 0.7798\n",
            "Epoch 26/200\n",
            "50000/50000 [==============================] - 21s 414us/step - loss: 0.8419 - accuracy: 0.8056 - val_loss: 0.8759 - val_accuracy: 0.7913\n",
            "Epoch 27/200\n",
            "50000/50000 [==============================] - 21s 417us/step - loss: 0.8373 - accuracy: 0.8096 - val_loss: 0.9162 - val_accuracy: 0.7827\n",
            "Epoch 28/200\n",
            "50000/50000 [==============================] - 21s 415us/step - loss: 0.8301 - accuracy: 0.8115 - val_loss: 0.9042 - val_accuracy: 0.7926\n",
            "Epoch 29/200\n",
            "50000/50000 [==============================] - 21s 414us/step - loss: 0.8178 - accuracy: 0.8135 - val_loss: 0.9635 - val_accuracy: 0.7717\n",
            "Epoch 30/200\n",
            "50000/50000 [==============================] - 21s 415us/step - loss: 0.8184 - accuracy: 0.8145 - val_loss: 0.9461 - val_accuracy: 0.7731\n",
            "Epoch 31/200\n",
            "50000/50000 [==============================] - 21s 417us/step - loss: 0.8057 - accuracy: 0.8191 - val_loss: 0.9090 - val_accuracy: 0.7842\n",
            "Epoch 32/200\n",
            "50000/50000 [==============================] - 21s 414us/step - loss: 0.7951 - accuracy: 0.8217 - val_loss: 0.8910 - val_accuracy: 0.7936\n",
            "Epoch 33/200\n",
            "50000/50000 [==============================] - 21s 415us/step - loss: 0.7987 - accuracy: 0.8211 - val_loss: 0.9451 - val_accuracy: 0.7721\n",
            "Epoch 34/200\n",
            "50000/50000 [==============================] - 21s 419us/step - loss: 0.7992 - accuracy: 0.8199 - val_loss: 0.8819 - val_accuracy: 0.7954\n",
            "Epoch 35/200\n",
            "50000/50000 [==============================] - 21s 421us/step - loss: 0.7811 - accuracy: 0.8247 - val_loss: 0.8526 - val_accuracy: 0.7991\n",
            "Epoch 36/200\n",
            "50000/50000 [==============================] - 21s 414us/step - loss: 0.7809 - accuracy: 0.8263 - val_loss: 0.8732 - val_accuracy: 0.7982\n",
            "Epoch 37/200\n",
            "50000/50000 [==============================] - 21s 415us/step - loss: 0.7738 - accuracy: 0.8298 - val_loss: 0.8623 - val_accuracy: 0.7979\n",
            "Epoch 38/200\n",
            "50000/50000 [==============================] - 21s 415us/step - loss: 0.7694 - accuracy: 0.8298 - val_loss: 0.9602 - val_accuracy: 0.7656\n",
            "Epoch 39/200\n",
            "50000/50000 [==============================] - 21s 415us/step - loss: 0.7533 - accuracy: 0.8329 - val_loss: 0.8542 - val_accuracy: 0.7994\n",
            "Epoch 40/200\n",
            "50000/50000 [==============================] - 21s 414us/step - loss: 0.7616 - accuracy: 0.8320 - val_loss: 0.9083 - val_accuracy: 0.7826\n",
            "Epoch 41/200\n",
            "50000/50000 [==============================] - 21s 416us/step - loss: 0.7495 - accuracy: 0.8364 - val_loss: 0.8970 - val_accuracy: 0.7875\n",
            "Epoch 42/200\n",
            "50000/50000 [==============================] - 21s 414us/step - loss: 0.7473 - accuracy: 0.8340 - val_loss: 0.8745 - val_accuracy: 0.8005\n",
            "Epoch 43/200\n",
            "50000/50000 [==============================] - 21s 414us/step - loss: 0.7437 - accuracy: 0.8353 - val_loss: 0.8334 - val_accuracy: 0.8108\n",
            "Epoch 44/200\n",
            "50000/50000 [==============================] - 21s 415us/step - loss: 0.7358 - accuracy: 0.8393 - val_loss: 0.8772 - val_accuracy: 0.8008\n",
            "Epoch 45/200\n",
            "50000/50000 [==============================] - 21s 414us/step - loss: 0.7409 - accuracy: 0.8391 - val_loss: 0.8391 - val_accuracy: 0.8049\n",
            "Epoch 46/200\n",
            "50000/50000 [==============================] - 21s 415us/step - loss: 0.7317 - accuracy: 0.8416 - val_loss: 0.8389 - val_accuracy: 0.8072\n",
            "Epoch 47/200\n",
            "50000/50000 [==============================] - 21s 414us/step - loss: 0.7258 - accuracy: 0.8437 - val_loss: 0.8690 - val_accuracy: 0.7967\n",
            "Epoch 48/200\n",
            "50000/50000 [==============================] - 21s 418us/step - loss: 0.7191 - accuracy: 0.8457 - val_loss: 0.8425 - val_accuracy: 0.8026\n",
            "Epoch 49/200\n",
            "50000/50000 [==============================] - 21s 417us/step - loss: 0.7150 - accuracy: 0.8449 - val_loss: 0.8385 - val_accuracy: 0.8054\n",
            "Epoch 50/200\n",
            "50000/50000 [==============================] - 21s 422us/step - loss: 0.7176 - accuracy: 0.8443 - val_loss: 0.8610 - val_accuracy: 0.8025\n",
            "Epoch 51/200\n",
            "50000/50000 [==============================] - 21s 413us/step - loss: 0.7117 - accuracy: 0.8490 - val_loss: 0.9016 - val_accuracy: 0.7955\n",
            "Epoch 52/200\n",
            "50000/50000 [==============================] - 21s 415us/step - loss: 0.7067 - accuracy: 0.8518 - val_loss: 0.8573 - val_accuracy: 0.8034\n",
            "Epoch 53/200\n",
            "50000/50000 [==============================] - 21s 417us/step - loss: 0.7094 - accuracy: 0.8486 - val_loss: 0.8515 - val_accuracy: 0.8055\n",
            "Epoch 54/200\n",
            "50000/50000 [==============================] - 21s 418us/step - loss: 0.7031 - accuracy: 0.8507 - val_loss: 0.8479 - val_accuracy: 0.8111\n",
            "Epoch 55/200\n",
            "50000/50000 [==============================] - 21s 416us/step - loss: 0.7059 - accuracy: 0.8497 - val_loss: 0.8521 - val_accuracy: 0.8069\n",
            "Epoch 56/200\n",
            "50000/50000 [==============================] - 21s 416us/step - loss: 0.7015 - accuracy: 0.8520 - val_loss: 0.8640 - val_accuracy: 0.8098\n",
            "Epoch 57/200\n",
            "50000/50000 [==============================] - 21s 415us/step - loss: 0.6853 - accuracy: 0.8548 - val_loss: 0.8290 - val_accuracy: 0.8135\n",
            "Epoch 58/200\n",
            "50000/50000 [==============================] - 21s 420us/step - loss: 0.6886 - accuracy: 0.8547 - val_loss: 0.8461 - val_accuracy: 0.8047\n",
            "Epoch 59/200\n",
            "50000/50000 [==============================] - 21s 417us/step - loss: 0.6867 - accuracy: 0.8552 - val_loss: 0.8337 - val_accuracy: 0.8088\n",
            "Epoch 60/200\n",
            "50000/50000 [==============================] - 21s 415us/step - loss: 0.6833 - accuracy: 0.8570 - val_loss: 0.8474 - val_accuracy: 0.8060\n",
            "Epoch 61/200\n",
            "50000/50000 [==============================] - 21s 416us/step - loss: 0.6836 - accuracy: 0.8566 - val_loss: 0.9858 - val_accuracy: 0.7731\n",
            "Epoch 62/200\n",
            "50000/50000 [==============================] - 21s 418us/step - loss: 0.6877 - accuracy: 0.8573 - val_loss: 0.8641 - val_accuracy: 0.8117\n",
            "Epoch 63/200\n",
            "50000/50000 [==============================] - 21s 417us/step - loss: 0.6758 - accuracy: 0.8582 - val_loss: 0.8415 - val_accuracy: 0.8116\n",
            "Epoch 64/200\n",
            "50000/50000 [==============================] - 21s 418us/step - loss: 0.6789 - accuracy: 0.8570 - val_loss: 0.8843 - val_accuracy: 0.7967\n",
            "Epoch 65/200\n",
            "50000/50000 [==============================] - 21s 418us/step - loss: 0.6754 - accuracy: 0.8589 - val_loss: 0.8200 - val_accuracy: 0.8110\n",
            "Epoch 66/200\n",
            "50000/50000 [==============================] - 21s 419us/step - loss: 0.6742 - accuracy: 0.8603 - val_loss: 0.8497 - val_accuracy: 0.8094\n",
            "Epoch 67/200\n",
            "50000/50000 [==============================] - 21s 416us/step - loss: 0.6675 - accuracy: 0.8611 - val_loss: 0.9245 - val_accuracy: 0.7959\n",
            "Epoch 68/200\n",
            "50000/50000 [==============================] - 21s 416us/step - loss: 0.6671 - accuracy: 0.8620 - val_loss: 0.8611 - val_accuracy: 0.8044\n",
            "Epoch 69/200\n",
            "50000/50000 [==============================] - 21s 417us/step - loss: 0.6594 - accuracy: 0.8635 - val_loss: 0.8291 - val_accuracy: 0.8112\n",
            "Epoch 70/200\n",
            "50000/50000 [==============================] - 21s 421us/step - loss: 0.6590 - accuracy: 0.8630 - val_loss: 0.8284 - val_accuracy: 0.8090\n",
            "Epoch 71/200\n",
            "50000/50000 [==============================] - 21s 419us/step - loss: 0.6548 - accuracy: 0.8636 - val_loss: 0.8412 - val_accuracy: 0.8110\n",
            "Epoch 72/200\n",
            "50000/50000 [==============================] - 21s 418us/step - loss: 0.6449 - accuracy: 0.8670 - val_loss: 0.8412 - val_accuracy: 0.8085\n",
            "Epoch 73/200\n",
            "50000/50000 [==============================] - 21s 419us/step - loss: 0.6514 - accuracy: 0.8663 - val_loss: 0.8667 - val_accuracy: 0.8093\n",
            "Epoch 74/200\n",
            "50000/50000 [==============================] - 21s 419us/step - loss: 0.6461 - accuracy: 0.8664 - val_loss: 0.8131 - val_accuracy: 0.8147\n",
            "Epoch 75/200\n",
            "50000/50000 [==============================] - 21s 417us/step - loss: 0.6569 - accuracy: 0.8654 - val_loss: 0.8204 - val_accuracy: 0.8156\n",
            "Epoch 76/200\n",
            "50000/50000 [==============================] - 21s 418us/step - loss: 0.6365 - accuracy: 0.8689 - val_loss: 0.8303 - val_accuracy: 0.8133\n",
            "Epoch 77/200\n",
            "50000/50000 [==============================] - 21s 420us/step - loss: 0.6383 - accuracy: 0.8690 - val_loss: 0.8421 - val_accuracy: 0.8022\n",
            "Epoch 78/200\n",
            "50000/50000 [==============================] - 21s 418us/step - loss: 0.6345 - accuracy: 0.8691 - val_loss: 0.8222 - val_accuracy: 0.8148\n",
            "Epoch 79/200\n",
            "50000/50000 [==============================] - 21s 423us/step - loss: 0.6302 - accuracy: 0.8693 - val_loss: 0.8589 - val_accuracy: 0.8040\n",
            "Epoch 80/200\n",
            "50000/50000 [==============================] - 21s 419us/step - loss: 0.6308 - accuracy: 0.8708 - val_loss: 0.8292 - val_accuracy: 0.8111\n",
            "Epoch 81/200\n",
            "50000/50000 [==============================] - 21s 420us/step - loss: 0.6367 - accuracy: 0.8707 - val_loss: 0.8093 - val_accuracy: 0.8177\n",
            "Epoch 82/200\n",
            "50000/50000 [==============================] - 21s 419us/step - loss: 0.6382 - accuracy: 0.8713 - val_loss: 0.8231 - val_accuracy: 0.8187\n",
            "Epoch 83/200\n",
            "50000/50000 [==============================] - 21s 420us/step - loss: 0.6375 - accuracy: 0.8705 - val_loss: 0.8605 - val_accuracy: 0.8039\n",
            "Epoch 84/200\n",
            "50000/50000 [==============================] - 21s 418us/step - loss: 0.6308 - accuracy: 0.8724 - val_loss: 0.8474 - val_accuracy: 0.8094\n",
            "Epoch 85/200\n",
            "50000/50000 [==============================] - 21s 419us/step - loss: 0.6227 - accuracy: 0.8732 - val_loss: 0.8384 - val_accuracy: 0.8057\n",
            "Epoch 86/200\n",
            "50000/50000 [==============================] - 21s 416us/step - loss: 0.6301 - accuracy: 0.8738 - val_loss: 0.8056 - val_accuracy: 0.8189\n",
            "Epoch 87/200\n",
            "50000/50000 [==============================] - 21s 417us/step - loss: 0.6299 - accuracy: 0.8734 - val_loss: 0.7933 - val_accuracy: 0.8217\n",
            "Epoch 88/200\n",
            "50000/50000 [==============================] - 21s 425us/step - loss: 0.6195 - accuracy: 0.8768 - val_loss: 0.8126 - val_accuracy: 0.8148\n",
            "Epoch 89/200\n",
            "50000/50000 [==============================] - 21s 427us/step - loss: 0.6180 - accuracy: 0.8749 - val_loss: 0.8134 - val_accuracy: 0.8175\n",
            "Epoch 90/200\n",
            "50000/50000 [==============================] - 21s 429us/step - loss: 0.6215 - accuracy: 0.8765 - val_loss: 0.8149 - val_accuracy: 0.8174\n",
            "Epoch 91/200\n",
            "50000/50000 [==============================] - 21s 421us/step - loss: 0.6227 - accuracy: 0.8751 - val_loss: 0.8334 - val_accuracy: 0.8146\n",
            "Epoch 92/200\n",
            "50000/50000 [==============================] - 21s 423us/step - loss: 0.6123 - accuracy: 0.8777 - val_loss: 0.8038 - val_accuracy: 0.8185\n",
            "Epoch 93/200\n",
            "50000/50000 [==============================] - 21s 421us/step - loss: 0.6127 - accuracy: 0.8781 - val_loss: 0.8324 - val_accuracy: 0.8080\n",
            "Epoch 94/200\n",
            "50000/50000 [==============================] - 21s 426us/step - loss: 0.6046 - accuracy: 0.8787 - val_loss: 0.8157 - val_accuracy: 0.8166\n",
            "Epoch 95/200\n",
            "50000/50000 [==============================] - 21s 421us/step - loss: 0.6127 - accuracy: 0.8771 - val_loss: 0.8180 - val_accuracy: 0.8123\n",
            "Epoch 96/200\n",
            "50000/50000 [==============================] - 21s 420us/step - loss: 0.6037 - accuracy: 0.8797 - val_loss: 0.7844 - val_accuracy: 0.8219\n",
            "Epoch 97/200\n",
            "50000/50000 [==============================] - 21s 419us/step - loss: 0.6081 - accuracy: 0.8785 - val_loss: 0.8662 - val_accuracy: 0.8156\n",
            "Epoch 98/200\n",
            "50000/50000 [==============================] - 21s 418us/step - loss: 0.6048 - accuracy: 0.8794 - val_loss: 0.8075 - val_accuracy: 0.8210\n",
            "Epoch 99/200\n",
            "50000/50000 [==============================] - 21s 421us/step - loss: 0.6027 - accuracy: 0.8801 - val_loss: 0.8864 - val_accuracy: 0.8029\n",
            "Epoch 100/200\n",
            "50000/50000 [==============================] - 21s 422us/step - loss: 0.6066 - accuracy: 0.8784 - val_loss: 0.8184 - val_accuracy: 0.8217\n",
            "Epoch 101/200\n",
            "50000/50000 [==============================] - 21s 419us/step - loss: 0.5957 - accuracy: 0.8819 - val_loss: 0.8357 - val_accuracy: 0.8075\n",
            "Epoch 102/200\n",
            "50000/50000 [==============================] - 21s 419us/step - loss: 0.5914 - accuracy: 0.8808 - val_loss: 0.8235 - val_accuracy: 0.8209\n",
            "Epoch 103/200\n",
            "50000/50000 [==============================] - 21s 421us/step - loss: 0.5878 - accuracy: 0.8829 - val_loss: 0.7815 - val_accuracy: 0.8256\n",
            "Epoch 104/200\n",
            "50000/50000 [==============================] - 21s 421us/step - loss: 0.5971 - accuracy: 0.8802 - val_loss: 0.8093 - val_accuracy: 0.8185\n",
            "Epoch 105/200\n",
            "50000/50000 [==============================] - 21s 420us/step - loss: 0.5979 - accuracy: 0.8820 - val_loss: 0.8457 - val_accuracy: 0.8074\n",
            "Epoch 106/200\n",
            "50000/50000 [==============================] - 21s 417us/step - loss: 0.5843 - accuracy: 0.8829 - val_loss: 0.8620 - val_accuracy: 0.8019\n",
            "Epoch 107/200\n",
            "50000/50000 [==============================] - 21s 423us/step - loss: 0.5824 - accuracy: 0.8854 - val_loss: 0.8201 - val_accuracy: 0.8141\n",
            "Epoch 108/200\n",
            "50000/50000 [==============================] - 21s 419us/step - loss: 0.5940 - accuracy: 0.8845 - val_loss: 0.7978 - val_accuracy: 0.8217\n",
            "Epoch 109/200\n",
            "50000/50000 [==============================] - 21s 426us/step - loss: 0.5807 - accuracy: 0.8859 - val_loss: 0.8255 - val_accuracy: 0.8173\n",
            "Epoch 110/200\n",
            "50000/50000 [==============================] - 21s 421us/step - loss: 0.5797 - accuracy: 0.8865 - val_loss: 0.7990 - val_accuracy: 0.8203\n",
            "Epoch 111/200\n",
            "50000/50000 [==============================] - 21s 422us/step - loss: 0.5841 - accuracy: 0.8841 - val_loss: 0.8674 - val_accuracy: 0.8081\n",
            "Epoch 112/200\n",
            "50000/50000 [==============================] - 21s 421us/step - loss: 0.5893 - accuracy: 0.8838 - val_loss: 0.8289 - val_accuracy: 0.8132\n",
            "Epoch 113/200\n",
            "50000/50000 [==============================] - 21s 417us/step - loss: 0.5877 - accuracy: 0.8842 - val_loss: 0.8154 - val_accuracy: 0.8144\n",
            "Epoch 114/200\n",
            "50000/50000 [==============================] - 21s 418us/step - loss: 0.5920 - accuracy: 0.8842 - val_loss: 0.8072 - val_accuracy: 0.8227\n",
            "Epoch 115/200\n",
            "50000/50000 [==============================] - 21s 420us/step - loss: 0.5741 - accuracy: 0.8875 - val_loss: 0.8107 - val_accuracy: 0.8201\n",
            "Epoch 116/200\n",
            "50000/50000 [==============================] - 21s 420us/step - loss: 0.5765 - accuracy: 0.8882 - val_loss: 0.8087 - val_accuracy: 0.8141\n",
            "Epoch 117/200\n",
            "50000/50000 [==============================] - 21s 418us/step - loss: 0.5848 - accuracy: 0.8869 - val_loss: 0.8055 - val_accuracy: 0.8179\n",
            "Epoch 118/200\n",
            "50000/50000 [==============================] - 21s 417us/step - loss: 0.5913 - accuracy: 0.8850 - val_loss: 0.8354 - val_accuracy: 0.8134\n",
            "Epoch 119/200\n",
            "50000/50000 [==============================] - 21s 421us/step - loss: 0.5729 - accuracy: 0.8883 - val_loss: 0.8135 - val_accuracy: 0.8193\n",
            "Epoch 120/200\n",
            "50000/50000 [==============================] - 21s 417us/step - loss: 0.5709 - accuracy: 0.8894 - val_loss: 0.7914 - val_accuracy: 0.8231\n",
            "Epoch 121/200\n",
            "50000/50000 [==============================] - 21s 420us/step - loss: 0.5728 - accuracy: 0.8889 - val_loss: 0.8104 - val_accuracy: 0.8153\n",
            "Epoch 122/200\n",
            "50000/50000 [==============================] - 21s 419us/step - loss: 0.5623 - accuracy: 0.8912 - val_loss: 0.8555 - val_accuracy: 0.8071\n",
            "Epoch 123/200\n",
            "50000/50000 [==============================] - 21s 424us/step - loss: 0.5664 - accuracy: 0.8888 - val_loss: 0.8029 - val_accuracy: 0.8272\n",
            "Epoch 124/200\n",
            "50000/50000 [==============================] - 21s 423us/step - loss: 0.5669 - accuracy: 0.8893 - val_loss: 0.8295 - val_accuracy: 0.8144\n",
            "Epoch 125/200\n",
            "50000/50000 [==============================] - 21s 419us/step - loss: 0.5711 - accuracy: 0.8885 - val_loss: 0.8134 - val_accuracy: 0.8190\n",
            "Epoch 126/200\n",
            "50000/50000 [==============================] - 21s 418us/step - loss: 0.5619 - accuracy: 0.8892 - val_loss: 0.7978 - val_accuracy: 0.8219\n",
            "Epoch 127/200\n",
            "50000/50000 [==============================] - 21s 420us/step - loss: 0.5733 - accuracy: 0.8898 - val_loss: 0.8048 - val_accuracy: 0.8222\n",
            "Epoch 128/200\n",
            "50000/50000 [==============================] - 21s 418us/step - loss: 0.5567 - accuracy: 0.8933 - val_loss: 0.8205 - val_accuracy: 0.8180\n",
            "Epoch 129/200\n",
            "50000/50000 [==============================] - 21s 418us/step - loss: 0.5654 - accuracy: 0.8902 - val_loss: 0.8479 - val_accuracy: 0.8167\n",
            "Epoch 130/200\n",
            "50000/50000 [==============================] - 21s 419us/step - loss: 0.5657 - accuracy: 0.8915 - val_loss: 0.8179 - val_accuracy: 0.8193\n",
            "Epoch 131/200\n",
            "50000/50000 [==============================] - 21s 421us/step - loss: 0.5693 - accuracy: 0.8906 - val_loss: 0.8056 - val_accuracy: 0.8230\n",
            "Epoch 132/200\n",
            "50000/50000 [==============================] - 21s 418us/step - loss: 0.5706 - accuracy: 0.8912 - val_loss: 0.8074 - val_accuracy: 0.8228\n",
            "Epoch 133/200\n",
            "50000/50000 [==============================] - 21s 418us/step - loss: 0.5611 - accuracy: 0.8930 - val_loss: 0.7792 - val_accuracy: 0.8259\n",
            "Epoch 134/200\n",
            "50000/50000 [==============================] - 21s 419us/step - loss: 0.5531 - accuracy: 0.8948 - val_loss: 0.7980 - val_accuracy: 0.8186\n",
            "Epoch 135/200\n",
            "50000/50000 [==============================] - 21s 417us/step - loss: 0.5632 - accuracy: 0.8913 - val_loss: 0.8516 - val_accuracy: 0.8053\n",
            "Epoch 136/200\n",
            "50000/50000 [==============================] - 21s 421us/step - loss: 0.5591 - accuracy: 0.8955 - val_loss: 0.8802 - val_accuracy: 0.8105\n",
            "Epoch 137/200\n",
            "50000/50000 [==============================] - 21s 416us/step - loss: 0.5701 - accuracy: 0.8917 - val_loss: 0.8086 - val_accuracy: 0.8207\n",
            "Epoch 138/200\n",
            "50000/50000 [==============================] - 21s 422us/step - loss: 0.5631 - accuracy: 0.8937 - val_loss: 0.8783 - val_accuracy: 0.8074\n",
            "Epoch 139/200\n",
            "50000/50000 [==============================] - 21s 420us/step - loss: 0.5627 - accuracy: 0.8924 - val_loss: 0.8847 - val_accuracy: 0.8006\n",
            "Epoch 140/200\n",
            "50000/50000 [==============================] - 21s 418us/step - loss: 0.5567 - accuracy: 0.8947 - val_loss: 0.7967 - val_accuracy: 0.8249\n",
            "Epoch 141/200\n",
            "50000/50000 [==============================] - 21s 417us/step - loss: 0.5519 - accuracy: 0.8946 - val_loss: 0.8374 - val_accuracy: 0.8187\n",
            "Epoch 142/200\n",
            "50000/50000 [==============================] - 21s 418us/step - loss: 0.5555 - accuracy: 0.8943 - val_loss: 0.8524 - val_accuracy: 0.8083\n",
            "Epoch 143/200\n",
            "50000/50000 [==============================] - 21s 417us/step - loss: 0.5676 - accuracy: 0.8917 - val_loss: 0.8238 - val_accuracy: 0.8194\n",
            "Epoch 144/200\n",
            "50000/50000 [==============================] - 21s 417us/step - loss: 0.5500 - accuracy: 0.8962 - val_loss: 0.7777 - val_accuracy: 0.8246\n",
            "Epoch 145/200\n",
            "50000/50000 [==============================] - 21s 417us/step - loss: 0.5474 - accuracy: 0.8956 - val_loss: 0.8576 - val_accuracy: 0.8083\n",
            "Epoch 146/200\n",
            "50000/50000 [==============================] - 21s 418us/step - loss: 0.5595 - accuracy: 0.8933 - val_loss: 0.8087 - val_accuracy: 0.8217\n",
            "Epoch 147/200\n",
            "50000/50000 [==============================] - 21s 418us/step - loss: 0.5617 - accuracy: 0.8933 - val_loss: 0.8945 - val_accuracy: 0.8047\n",
            "Epoch 148/200\n",
            "50000/50000 [==============================] - 21s 417us/step - loss: 0.5600 - accuracy: 0.8929 - val_loss: 0.8088 - val_accuracy: 0.8174\n",
            "Epoch 149/200\n",
            "50000/50000 [==============================] - 21s 415us/step - loss: 0.5359 - accuracy: 0.8973 - val_loss: 0.8758 - val_accuracy: 0.7990\n",
            "Epoch 150/200\n",
            "50000/50000 [==============================] - 21s 419us/step - loss: 0.5499 - accuracy: 0.8957 - val_loss: 0.8502 - val_accuracy: 0.8170\n",
            "Epoch 151/200\n",
            "50000/50000 [==============================] - 21s 417us/step - loss: 0.5507 - accuracy: 0.8969 - val_loss: 0.8146 - val_accuracy: 0.8197\n",
            "Epoch 152/200\n",
            "50000/50000 [==============================] - 21s 415us/step - loss: 0.5525 - accuracy: 0.8941 - val_loss: 0.8262 - val_accuracy: 0.8214\n",
            "Epoch 153/200\n",
            "50000/50000 [==============================] - 21s 422us/step - loss: 0.5434 - accuracy: 0.8966 - val_loss: 0.8024 - val_accuracy: 0.8277\n",
            "Epoch 154/200\n",
            "50000/50000 [==============================] - 21s 418us/step - loss: 0.5385 - accuracy: 0.8988 - val_loss: 0.8147 - val_accuracy: 0.8225\n",
            "Epoch 155/200\n",
            "50000/50000 [==============================] - 21s 415us/step - loss: 0.5420 - accuracy: 0.8967 - val_loss: 0.9548 - val_accuracy: 0.7892\n",
            "Epoch 156/200\n",
            "50000/50000 [==============================] - 21s 418us/step - loss: 0.5501 - accuracy: 0.8936 - val_loss: 0.8483 - val_accuracy: 0.8152\n",
            "Epoch 157/200\n",
            "50000/50000 [==============================] - 21s 418us/step - loss: 0.5475 - accuracy: 0.8990 - val_loss: 0.8158 - val_accuracy: 0.8143\n",
            "Epoch 158/200\n",
            "50000/50000 [==============================] - 21s 420us/step - loss: 0.5517 - accuracy: 0.8944 - val_loss: 0.8471 - val_accuracy: 0.8138\n",
            "Epoch 159/200\n",
            "50000/50000 [==============================] - 21s 418us/step - loss: 0.5296 - accuracy: 0.8994 - val_loss: 0.8176 - val_accuracy: 0.8216\n",
            "Epoch 160/200\n",
            "50000/50000 [==============================] - 21s 416us/step - loss: 0.5542 - accuracy: 0.8960 - val_loss: 0.8021 - val_accuracy: 0.8204\n",
            "Epoch 161/200\n",
            "50000/50000 [==============================] - 21s 417us/step - loss: 0.5273 - accuracy: 0.9004 - val_loss: 0.8694 - val_accuracy: 0.7992\n",
            "Epoch 162/200\n",
            "50000/50000 [==============================] - 21s 418us/step - loss: 0.5420 - accuracy: 0.8979 - val_loss: 0.8083 - val_accuracy: 0.8195\n",
            "Epoch 163/200\n",
            "50000/50000 [==============================] - 21s 415us/step - loss: 0.5428 - accuracy: 0.8985 - val_loss: 0.7995 - val_accuracy: 0.8256\n",
            "Epoch 164/200\n",
            "50000/50000 [==============================] - 21s 413us/step - loss: 0.5409 - accuracy: 0.8981 - val_loss: 0.7980 - val_accuracy: 0.8255\n",
            "Epoch 165/200\n",
            "50000/50000 [==============================] - 21s 418us/step - loss: 0.5363 - accuracy: 0.8996 - val_loss: 0.7894 - val_accuracy: 0.8233\n",
            "Epoch 166/200\n",
            "50000/50000 [==============================] - 21s 413us/step - loss: 0.5335 - accuracy: 0.9021 - val_loss: 0.8069 - val_accuracy: 0.8193\n",
            "Epoch 167/200\n",
            "50000/50000 [==============================] - 21s 411us/step - loss: 0.5389 - accuracy: 0.8980 - val_loss: 0.8875 - val_accuracy: 0.8089\n",
            "Epoch 168/200\n",
            "50000/50000 [==============================] - 21s 418us/step - loss: 0.5339 - accuracy: 0.8987 - val_loss: 0.8045 - val_accuracy: 0.8194\n",
            "Epoch 169/200\n",
            "50000/50000 [==============================] - 21s 413us/step - loss: 0.5457 - accuracy: 0.8983 - val_loss: 0.8095 - val_accuracy: 0.8206\n",
            "Epoch 170/200\n",
            "50000/50000 [==============================] - 21s 411us/step - loss: 0.5400 - accuracy: 0.8994 - val_loss: 0.8039 - val_accuracy: 0.8233\n",
            "Epoch 171/200\n",
            "50000/50000 [==============================] - 21s 411us/step - loss: 0.5361 - accuracy: 0.9001 - val_loss: 0.8545 - val_accuracy: 0.8120\n",
            "Epoch 172/200\n",
            "50000/50000 [==============================] - 21s 411us/step - loss: 0.5349 - accuracy: 0.8999 - val_loss: 0.8215 - val_accuracy: 0.8167\n",
            "Epoch 173/200\n",
            "50000/50000 [==============================] - 21s 416us/step - loss: 0.5469 - accuracy: 0.8975 - val_loss: 0.7992 - val_accuracy: 0.8191\n",
            "Epoch 174/200\n",
            "50000/50000 [==============================] - 21s 413us/step - loss: 0.5456 - accuracy: 0.8989 - val_loss: 0.8289 - val_accuracy: 0.8230\n",
            "Epoch 175/200\n",
            "50000/50000 [==============================] - 21s 413us/step - loss: 0.5414 - accuracy: 0.8988 - val_loss: 0.8214 - val_accuracy: 0.8194\n",
            "Epoch 176/200\n",
            "50000/50000 [==============================] - 21s 413us/step - loss: 0.5350 - accuracy: 0.9002 - val_loss: 0.8272 - val_accuracy: 0.8194\n",
            "Epoch 177/200\n",
            "50000/50000 [==============================] - 21s 416us/step - loss: 0.5319 - accuracy: 0.9002 - val_loss: 0.8128 - val_accuracy: 0.8234\n",
            "Epoch 178/200\n",
            "50000/50000 [==============================] - 21s 413us/step - loss: 0.5342 - accuracy: 0.9008 - val_loss: 0.8246 - val_accuracy: 0.8263\n",
            "Epoch 179/200\n",
            "50000/50000 [==============================] - 21s 413us/step - loss: 0.5301 - accuracy: 0.9009 - val_loss: 0.8321 - val_accuracy: 0.8177\n",
            "Epoch 180/200\n",
            "50000/50000 [==============================] - 21s 415us/step - loss: 0.5237 - accuracy: 0.9023 - val_loss: 0.7800 - val_accuracy: 0.8292\n",
            "Epoch 181/200\n",
            "50000/50000 [==============================] - 21s 414us/step - loss: 0.5186 - accuracy: 0.9020 - val_loss: 0.8269 - val_accuracy: 0.8184\n",
            "Epoch 182/200\n",
            "50000/50000 [==============================] - 21s 412us/step - loss: 0.5325 - accuracy: 0.9030 - val_loss: 0.8235 - val_accuracy: 0.8104\n",
            "Epoch 183/200\n",
            "50000/50000 [==============================] - 21s 419us/step - loss: 0.5321 - accuracy: 0.9028 - val_loss: 0.7901 - val_accuracy: 0.8253\n",
            "Epoch 184/200\n",
            "50000/50000 [==============================] - 21s 410us/step - loss: 0.5282 - accuracy: 0.9014 - val_loss: 0.8081 - val_accuracy: 0.8223\n",
            "Epoch 185/200\n",
            "50000/50000 [==============================] - 21s 413us/step - loss: 0.5209 - accuracy: 0.9018 - val_loss: 0.7969 - val_accuracy: 0.8252\n",
            "Epoch 186/200\n",
            "50000/50000 [==============================] - 21s 411us/step - loss: 0.5267 - accuracy: 0.9024 - val_loss: 0.7955 - val_accuracy: 0.8231\n",
            "Epoch 187/200\n",
            "50000/50000 [==============================] - 21s 411us/step - loss: 0.5245 - accuracy: 0.9024 - val_loss: 0.8181 - val_accuracy: 0.8218\n",
            "Epoch 188/200\n",
            "50000/50000 [==============================] - 21s 412us/step - loss: 0.5212 - accuracy: 0.9019 - val_loss: 0.8056 - val_accuracy: 0.8226\n",
            "Epoch 189/200\n",
            "50000/50000 [==============================] - 21s 416us/step - loss: 0.5329 - accuracy: 0.9007 - val_loss: 0.8175 - val_accuracy: 0.8227\n",
            "Epoch 190/200\n",
            "50000/50000 [==============================] - 21s 413us/step - loss: 0.5343 - accuracy: 0.9007 - val_loss: 0.8331 - val_accuracy: 0.8222\n",
            "Epoch 191/200\n",
            "50000/50000 [==============================] - 21s 416us/step - loss: 0.5176 - accuracy: 0.9046 - val_loss: 0.8071 - val_accuracy: 0.8165\n",
            "Epoch 192/200\n",
            "50000/50000 [==============================] - 21s 417us/step - loss: 0.5246 - accuracy: 0.9046 - val_loss: 0.8085 - val_accuracy: 0.8217\n",
            "Epoch 193/200\n",
            "50000/50000 [==============================] - 21s 418us/step - loss: 0.5177 - accuracy: 0.9037 - val_loss: 0.8172 - val_accuracy: 0.8230\n",
            "Epoch 194/200\n",
            "50000/50000 [==============================] - 21s 417us/step - loss: 0.5195 - accuracy: 0.9032 - val_loss: 0.8028 - val_accuracy: 0.8196\n",
            "Epoch 195/200\n",
            "50000/50000 [==============================] - 21s 416us/step - loss: 0.5242 - accuracy: 0.9026 - val_loss: 0.7972 - val_accuracy: 0.8228\n",
            "Epoch 196/200\n",
            "50000/50000 [==============================] - 21s 415us/step - loss: 0.5109 - accuracy: 0.9048 - val_loss: 0.8231 - val_accuracy: 0.8218\n",
            "Epoch 197/200\n",
            "50000/50000 [==============================] - 21s 416us/step - loss: 0.5172 - accuracy: 0.9032 - val_loss: 0.8587 - val_accuracy: 0.8146\n",
            "Epoch 198/200\n",
            "50000/50000 [==============================] - 21s 420us/step - loss: 0.5096 - accuracy: 0.9052 - val_loss: 0.8168 - val_accuracy: 0.8250\n",
            "Epoch 199/200\n",
            "50000/50000 [==============================] - 21s 413us/step - loss: 0.5168 - accuracy: 0.9064 - val_loss: 0.8171 - val_accuracy: 0.8259\n",
            "Epoch 200/200\n",
            "50000/50000 [==============================] - 21s 414us/step - loss: 0.5209 - accuracy: 0.9043 - val_loss: 0.8009 - val_accuracy: 0.8220\n"
          ],
          "name": "stdout"
        },
        {
          "output_type": "execute_result",
          "data": {
            "text/plain": [
              "<keras.callbacks.callbacks.History at 0x7fe3e44a4a20>"
            ]
          },
          "metadata": {
            "tags": []
          },
          "execution_count": 13
        }
      ]
    },
    {
      "cell_type": "code",
      "metadata": {
        "id": "w6kiUQ1cb4y_",
        "colab_type": "code",
        "colab": {}
      },
      "source": [
        "model.save(\"model.h5\")"
      ],
      "execution_count": 0,
      "outputs": []
    },
    {
      "cell_type": "code",
      "metadata": {
        "id": "K8RIt6sqQvZ8",
        "colab_type": "code",
        "outputId": "ace21499-8d15-49a3-a364-27aad5fbd659",
        "colab": {
          "base_uri": "https://localhost:8080/",
          "height": 850
        }
      },
      "source": [
        "x_train[0]"
      ],
      "execution_count": 15,
      "outputs": [
        {
          "output_type": "execute_result",
          "data": {
            "text/plain": [
              "array([[[0.23137255, 0.24313726, 0.24705882],\n",
              "        [0.16862746, 0.18039216, 0.1764706 ],\n",
              "        [0.19607843, 0.1882353 , 0.16862746],\n",
              "        ...,\n",
              "        [0.61960787, 0.5176471 , 0.42352942],\n",
              "        [0.59607846, 0.49019608, 0.4       ],\n",
              "        [0.5803922 , 0.4862745 , 0.40392157]],\n",
              "\n",
              "       [[0.0627451 , 0.07843138, 0.07843138],\n",
              "        [0.        , 0.        , 0.        ],\n",
              "        [0.07058824, 0.03137255, 0.        ],\n",
              "        ...,\n",
              "        [0.48235294, 0.34509805, 0.21568628],\n",
              "        [0.46666667, 0.3254902 , 0.19607843],\n",
              "        [0.47843137, 0.34117648, 0.22352941]],\n",
              "\n",
              "       [[0.09803922, 0.09411765, 0.08235294],\n",
              "        [0.0627451 , 0.02745098, 0.        ],\n",
              "        [0.19215687, 0.10588235, 0.03137255],\n",
              "        ...,\n",
              "        [0.4627451 , 0.32941177, 0.19607843],\n",
              "        [0.47058824, 0.32941177, 0.19607843],\n",
              "        [0.42745098, 0.28627452, 0.16470589]],\n",
              "\n",
              "       ...,\n",
              "\n",
              "       [[0.8156863 , 0.6666667 , 0.3764706 ],\n",
              "        [0.7882353 , 0.6       , 0.13333334],\n",
              "        [0.7764706 , 0.6313726 , 0.10196079],\n",
              "        ...,\n",
              "        [0.627451  , 0.52156866, 0.27450982],\n",
              "        [0.21960784, 0.12156863, 0.02745098],\n",
              "        [0.20784314, 0.13333334, 0.07843138]],\n",
              "\n",
              "       [[0.7058824 , 0.54509807, 0.3764706 ],\n",
              "        [0.6784314 , 0.48235294, 0.16470589],\n",
              "        [0.7294118 , 0.5647059 , 0.11764706],\n",
              "        ...,\n",
              "        [0.72156864, 0.5803922 , 0.36862746],\n",
              "        [0.38039216, 0.24313726, 0.13333334],\n",
              "        [0.3254902 , 0.20784314, 0.13333334]],\n",
              "\n",
              "       [[0.69411767, 0.5647059 , 0.45490196],\n",
              "        [0.65882355, 0.5058824 , 0.36862746],\n",
              "        [0.7019608 , 0.5568628 , 0.34117648],\n",
              "        ...,\n",
              "        [0.84705883, 0.72156864, 0.54901963],\n",
              "        [0.5921569 , 0.4627451 , 0.32941177],\n",
              "        [0.48235294, 0.36078432, 0.28235295]]], dtype=float32)"
            ]
          },
          "metadata": {
            "tags": []
          },
          "execution_count": 15
        }
      ]
    },
    {
      "cell_type": "code",
      "metadata": {
        "id": "18dvChrgP6J5",
        "colab_type": "code",
        "colab": {}
      },
      "source": [
        "test_image = np.expand_dims(x_train[0], axis = 0)\n",
        "result = model.predict(test_image)"
      ],
      "execution_count": 0,
      "outputs": []
    },
    {
      "cell_type": "markdown",
      "metadata": {
        "id": "nCiKErjSlKQ3",
        "colab_type": "text"
      },
      "source": [
        "Result: After 50 epochs, the difference between training and validation accuracy is low but the training is slow as compared to the model with batch normalization."
      ]
    },
    {
      "cell_type": "code",
      "metadata": {
        "id": "NKUKOKH1PU_m",
        "colab_type": "code",
        "outputId": "caef878d-8a79-4a26-890d-c0e236780e34",
        "colab": {
          "base_uri": "https://localhost:8080/",
          "height": 34
        }
      },
      "source": [
        "result[0][0]"
      ],
      "execution_count": 17,
      "outputs": [
        {
          "output_type": "execute_result",
          "data": {
            "text/plain": [
              "5.1357136e-07"
            ]
          },
          "metadata": {
            "tags": []
          },
          "execution_count": 17
        }
      ]
    },
    {
      "cell_type": "code",
      "metadata": {
        "id": "rtsEZqeVSjGy",
        "colab_type": "code",
        "outputId": "10732e4d-04f7-47bd-f3c0-5317ef6b77b9",
        "colab": {
          "base_uri": "https://localhost:8080/",
          "height": 34
        }
      },
      "source": [
        "np.argmax(result[0])"
      ],
      "execution_count": 18,
      "outputs": [
        {
          "output_type": "execute_result",
          "data": {
            "text/plain": [
              "6"
            ]
          },
          "metadata": {
            "tags": []
          },
          "execution_count": 18
        }
      ]
    },
    {
      "cell_type": "code",
      "metadata": {
        "id": "mMrMrMLfVkyL",
        "colab_type": "code",
        "outputId": "eb59ef73-9bee-44ca-c66c-ad85cc6358ef",
        "colab": {
          "base_uri": "https://localhost:8080/",
          "height": 34
        }
      },
      "source": [
        "y_train[0]"
      ],
      "execution_count": 19,
      "outputs": [
        {
          "output_type": "execute_result",
          "data": {
            "text/plain": [
              "array([0., 0., 0., 0., 0., 0., 1., 0., 0., 0.], dtype=float32)"
            ]
          },
          "metadata": {
            "tags": []
          },
          "execution_count": 19
        }
      ]
    },
    {
      "cell_type": "code",
      "metadata": {
        "id": "63qH8jHFL19Y",
        "colab_type": "code",
        "outputId": "4f65273c-71a4-4d6a-89f3-09bb00c533e3",
        "colab": {
          "base_uri": "https://localhost:8080/",
          "height": 164
        }
      },
      "source": [
        "\n",
        "tf.__version__"
      ],
      "execution_count": 20,
      "outputs": [
        {
          "output_type": "error",
          "ename": "NameError",
          "evalue": "ignored",
          "traceback": [
            "\u001b[0;31m---------------------------------------------------------------------------\u001b[0m",
            "\u001b[0;31mNameError\u001b[0m                                 Traceback (most recent call last)",
            "\u001b[0;32m<ipython-input-20-65996cac02ec>\u001b[0m in \u001b[0;36m<module>\u001b[0;34m()\u001b[0m\n\u001b[0;32m----> 1\u001b[0;31m \u001b[0mtf\u001b[0m\u001b[0;34m.\u001b[0m\u001b[0m__version__\u001b[0m\u001b[0;34m\u001b[0m\u001b[0;34m\u001b[0m\u001b[0m\n\u001b[0m",
            "\u001b[0;31mNameError\u001b[0m: name 'tf' is not defined"
          ]
        }
      ]
    },
    {
      "cell_type": "code",
      "metadata": {
        "id": "JNRNziNZcWKV",
        "colab_type": "code",
        "colab": {}
      },
      "source": [
        "# list all data in history\n",
        "print(history.history.keys())\n",
        "# summarize history for accuracy\n",
        "plt.plot(history.history['acc'])\n",
        "plt.plot(history.history['val_acc'])\n",
        "plt.title('model accuracy')\n",
        "plt.ylabel('accuracy')\n",
        "plt.xlabel('epoch')\n",
        "plt.legend(['train', 'test'], loc='upper left')\n",
        "plt.show()\n",
        "# summarize history for loss\n",
        "plt.plot(history.history['loss'])\n",
        "plt.plot(history.history['val_loss'])\n",
        "plt.title('model loss')\n",
        "plt.ylabel('loss')\n",
        "plt.xlabel('epoch')\n",
        "plt.legend(['train', 'test'], loc='upper left')\n",
        "plt.show()"
      ],
      "execution_count": 0,
      "outputs": []
    }
  ]
}