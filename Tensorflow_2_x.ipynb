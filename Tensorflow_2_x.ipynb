{
  "nbformat": 4,
  "nbformat_minor": 0,
  "metadata": {
    "kernelspec": {
      "display_name": "Python 3",
      "language": "python",
      "name": "python3"
    },
    "language_info": {
      "codemirror_mode": {
        "name": "ipython",
        "version": 3
      },
      "file_extension": ".py",
      "mimetype": "text/x-python",
      "name": "python",
      "nbconvert_exporter": "python",
      "pygments_lexer": "ipython3",
      "version": "3.6.10"
    },
    "colab": {
      "name": "Tensorflow_2.x.ipynb",
      "provenance": [],
      "include_colab_link": true
    }
  },
  "cells": [
    {
      "cell_type": "markdown",
      "metadata": {
        "id": "view-in-github",
        "colab_type": "text"
      },
      "source": [
        "<a href=\"https://colab.research.google.com/github/sachinkun21/Tensorflow/blob/master/Tensorflow_2_x.ipynb\" target=\"_parent\"><img src=\"https://colab.research.google.com/assets/colab-badge.svg\" alt=\"Open In Colab\"/></a>"
      ]
    },
    {
      "cell_type": "markdown",
      "metadata": {
        "id": "Q-GJ_vIfRhhj",
        "colab_type": "text"
      },
      "source": [
        "# Tensorflow-2.0 in Action "
      ]
    },
    {
      "cell_type": "markdown",
      "metadata": {
        "id": "Av_GSf5sRhhk",
        "colab_type": "text"
      },
      "source": [
        "\n",
        "![title](img/tensorflow1.png)"
      ]
    },
    {
      "cell_type": "markdown",
      "metadata": {
        "id": "RNnq94NuRhhl",
        "colab_type": "text"
      },
      "source": [
        "> TensorFlow is an open source software library for high performance numerical computation. Its flexible architecture allows easy deployment of computation across a variety of platforms (CPUs, GPUs, TPUs), and from desktops to clusters of servers to mobile and edge devices.\n",
        "\n",
        "> Indented block\n",
        "\n",
        "\n",
        "> Originally developed by researchers and engineers from the Google Brain team within Google’s AI organization, it comes with strong support for machine learning and deep learning and the flexible numerical computation core is used across many other scientific domains."
      ]
    },
    {
      "cell_type": "markdown",
      "metadata": {
        "id": "eK8w7EduRhhm",
        "colab_type": "text"
      },
      "source": [
        "## Why Tensorflow?"
      ]
    },
    {
      "cell_type": "markdown",
      "metadata": {
        "id": "TGIWBT19Rhhn",
        "colab_type": "text"
      },
      "source": [
        "![title](img/comparision.png)"
      ]
    },
    {
      "cell_type": "markdown",
      "metadata": {
        "id": "t5p9WnIiRhho",
        "colab_type": "text"
      },
      "source": [
        "![title](img/comparision2.png)"
      ]
    },
    {
      "cell_type": "markdown",
      "metadata": {
        "id": "9aYXWxPdRhho",
        "colab_type": "text"
      },
      "source": [
        "## Installation of Tensorflow"
      ]
    },
    {
      "cell_type": "markdown",
      "metadata": {
        "id": "oEwggqAoRhhp",
        "colab_type": "text"
      },
      "source": [
        ">TensorFlow is tested and supported on the following 64-bit systems:\n",
        "\n",
        ">1.Ubuntu 16.04 or later\n",
        "\n",
        ">2.Windows 7 or later\n",
        "\n",
        ">3.macOS 10.12.6 (Sierra) or later (no GPU support)\n",
        "\n",
        ">4.Raspbian 9.0 or later"
      ]
    },
    {
      "cell_type": "markdown",
      "metadata": {
        "id": "-EwJmioNRhhq",
        "colab_type": "text"
      },
      "source": [
        "> **pip install tensorflow==2.0.0**\n",
        "\n",
        "> To run from Anaconda Prompt\n",
        "\n",
        "> **!pip install tensorflow==2.0.0**\n",
        "\n",
        "> To run from Jupyter Notebook"
      ]
    },
    {
      "cell_type": "markdown",
      "metadata": {
        "id": "1fo3oYD7Rhhr",
        "colab_type": "text"
      },
      "source": [
        "`Both Tensorflow 2.0 and Keras have been released for four years (Keras was released in March 2015, and Tensorflow was released in November of the same year). The rapid development of deep learning in the past days, we also know some problems of Tensorflow1.x and Keras:`\n",
        "\n",
        "* Using Tensorflow means programming static graphs, which is difficult and inconvenient for programs that are familiar with imperative programming\n",
        "\n",
        "* Tensorflow api is powerful and flexible, but it is more complex, confusing and difficult to use.\n",
        "\n",
        "* Keras api is productive and easy to use, but lacks flexibility for research\n"
      ]
    },
    {
      "cell_type": "markdown",
      "metadata": {
        "id": "Vg5hvX6yRhhr",
        "colab_type": "text"
      },
      "source": [
        "#### Version Check"
      ]
    },
    {
      "cell_type": "code",
      "metadata": {
        "id": "9TVgiEalRhhs",
        "colab_type": "code",
        "colab": {
          "base_uri": "https://localhost:8080/",
          "height": 51
        },
        "outputId": "8c40bc4b-2b19-48a7-de34-2adbb1be42f1"
      },
      "source": [
        "import tensorflow as tf\n",
        "print(\"TensorFlow version: {}\".format(tf.__version__))\n",
        "print(\"Keras version: {}\".format(tf.keras.__version__))"
      ],
      "execution_count": 1,
      "outputs": [
        {
          "output_type": "stream",
          "text": [
            "TensorFlow version: 2.2.0\n",
            "Keras version: 2.3.0-tf\n"
          ],
          "name": "stdout"
        }
      ]
    },
    {
      "cell_type": "markdown",
      "metadata": {
        "id": "Wo5OROFoRhhy",
        "colab_type": "text"
      },
      "source": [
        "`Tensorflow2.0 is a combination design of Tensorflow1.x and Keras. Considering user feedback and framework development over the past four years, it largely solves the above problems and will become the future machine learning platform.`\n",
        "\n",
        "> Tensorflow 2.0 is built on the following core ideas:\n",
        "\n",
        "\n",
        "* The coding is more pythonic, so that users can get the results immediately like they are programming in numpy\n",
        "* Retaining the characteristics of static graphs (for performance, distributed, and production deployment), this makes TensorFlow fast, scalable, and ready for production.\n",
        "* Using Keras as a high-level API for deep learning, making Tensorflow easy to use and efficient\n",
        "* Make the entire framework both high-level features (easy to use, efficient, and not flexible) and low-level features (powerful and scalable, not easy to use, but very flexible)"
      ]
    },
    {
      "cell_type": "markdown",
      "metadata": {
        "id": "oyccvIsURhhy",
        "colab_type": "text"
      },
      "source": [
        ">Eager execution is by default in TensorFlow 2.0 and, it needs no special setup.\n",
        ">The following below code can be used to find out whether a CPU or GPU is in use"
      ]
    },
    {
      "cell_type": "markdown",
      "metadata": {
        "id": "e-eCaBGNRhhz",
        "colab_type": "text"
      },
      "source": [
        "### GPU/CPU Check"
      ]
    },
    {
      "cell_type": "code",
      "metadata": {
        "scrolled": true,
        "id": "PaOasPSmRhh0",
        "colab_type": "code",
        "colab": {},
        "outputId": "7f9b12b6-f6cc-475c-9d74-2aa75be0362c"
      },
      "source": [
        "variable = tf.Variable([3, 3])\n",
        "if tf.test.is_gpu_available():\n",
        "    print('GPU')\n",
        "    print('GPU #0?')\n",
        "    print(var.device.endswith('GPU:0'))\n",
        "else:\n",
        "    print('CPU')"
      ],
      "execution_count": 0,
      "outputs": [
        {
          "output_type": "stream",
          "text": [
            "CPU\n"
          ],
          "name": "stdout"
        }
      ]
    },
    {
      "cell_type": "markdown",
      "metadata": {
        "id": "ubibHOxCRhh3",
        "colab_type": "text"
      },
      "source": [
        "### Tensor Constant"
      ]
    },
    {
      "cell_type": "code",
      "metadata": {
        "id": "CwK0AO-zRhh3",
        "colab_type": "code",
        "colab": {},
        "outputId": "952e3bab-44bd-4cc5-a5b3-39ee985524f0"
      },
      "source": [
        "ineuron = tf.constant(42)\n",
        "ineuron"
      ],
      "execution_count": 0,
      "outputs": [
        {
          "output_type": "execute_result",
          "data": {
            "text/plain": [
              "<tf.Tensor: id=8, shape=(), dtype=int32, numpy=42>"
            ]
          },
          "metadata": {
            "tags": []
          },
          "execution_count": 3
        }
      ]
    },
    {
      "cell_type": "code",
      "metadata": {
        "id": "mnfdcWzURhh6",
        "colab_type": "code",
        "colab": {},
        "outputId": "6ad166a3-cb1c-40bd-f386-cc488afd25fd"
      },
      "source": [
        "ineuron.numpy()"
      ],
      "execution_count": 0,
      "outputs": [
        {
          "output_type": "execute_result",
          "data": {
            "text/plain": [
              "42"
            ]
          },
          "metadata": {
            "tags": []
          },
          "execution_count": 16
        }
      ]
    },
    {
      "cell_type": "code",
      "metadata": {
        "id": "irngyBQjRhh-",
        "colab_type": "code",
        "colab": {},
        "outputId": "f3c20050-fdc8-4d53-918f-7cd4d84da6a1"
      },
      "source": [
        "ineuron1 = tf.constant(1, dtype = tf.int64)\n",
        "ineuron1"
      ],
      "execution_count": 0,
      "outputs": [
        {
          "output_type": "execute_result",
          "data": {
            "text/plain": [
              "<tf.Tensor: id=22, shape=(), dtype=int64, numpy=1>"
            ]
          },
          "metadata": {
            "tags": []
          },
          "execution_count": 17
        }
      ]
    },
    {
      "cell_type": "code",
      "metadata": {
        "id": "QdrqIgBDRhiD",
        "colab_type": "code",
        "colab": {},
        "outputId": "4dd26ce5-c94e-4cc3-d971-99e71fb54750"
      },
      "source": [
        "ineuron_x = tf.constant([[4,2],[9,5]])\n",
        "print(ineuron_x)"
      ],
      "execution_count": 0,
      "outputs": [
        {
          "output_type": "stream",
          "text": [
            "tf.Tensor(\n",
            "[[4 2]\n",
            " [9 5]], shape=(2, 2), dtype=int32)\n"
          ],
          "name": "stdout"
        }
      ]
    },
    {
      "cell_type": "code",
      "metadata": {
        "id": "-9_sXEj_RhiG",
        "colab_type": "code",
        "colab": {},
        "outputId": "f3dde635-3cb2-444d-d86a-ec195bfea3ad"
      },
      "source": [
        "ineuron_x.numpy()"
      ],
      "execution_count": 0,
      "outputs": [
        {
          "output_type": "execute_result",
          "data": {
            "text/plain": [
              "array([[4, 2],\n",
              "       [9, 5]])"
            ]
          },
          "metadata": {
            "tags": []
          },
          "execution_count": 19
        }
      ]
    },
    {
      "cell_type": "code",
      "metadata": {
        "id": "oA8lqRdZRhiJ",
        "colab_type": "code",
        "colab": {},
        "outputId": "f54f83fa-d4d5-44b2-9b5b-726b94c2d4f6"
      },
      "source": [
        "print('shape:',ineuron_x.shape)\n",
        "print(ineuron_x.dtype)"
      ],
      "execution_count": 0,
      "outputs": [
        {
          "output_type": "stream",
          "text": [
            "shape: (2, 2)\n",
            "<dtype: 'int32'>\n"
          ],
          "name": "stdout"
        }
      ]
    },
    {
      "cell_type": "markdown",
      "metadata": {
        "id": "23o6y2PCRhiM",
        "colab_type": "text"
      },
      "source": [
        "#### Commonly used method is to generate constant tf.ones and the tf.zeros like of numpy np.ones & np.zeros"
      ]
    },
    {
      "cell_type": "code",
      "metadata": {
        "id": "VDPyx3RlRhiM",
        "colab_type": "code",
        "colab": {},
        "outputId": "eb0bc9d3-e56b-43bc-ad74-282129c8689c"
      },
      "source": [
        "print(tf.ones(shape=(2,3)))"
      ],
      "execution_count": 0,
      "outputs": [
        {
          "output_type": "stream",
          "text": [
            "tf.Tensor(\n",
            "[[1. 1. 1.]\n",
            " [1. 1. 1.]], shape=(2, 3), dtype=float32)\n"
          ],
          "name": "stdout"
        }
      ]
    },
    {
      "cell_type": "code",
      "metadata": {
        "id": "Z_TkDd1sRhiR",
        "colab_type": "code",
        "colab": {},
        "outputId": "f302f4dd-e6c4-4de9-fd22-cf557233aa72"
      },
      "source": [
        "print(tf.zeros(shape=(3,2)))"
      ],
      "execution_count": 0,
      "outputs": [
        {
          "output_type": "stream",
          "text": [
            "tf.Tensor(\n",
            "[[0. 0.]\n",
            " [0. 0.]\n",
            " [0. 0.]], shape=(3, 2), dtype=float32)\n"
          ],
          "name": "stdout"
        }
      ]
    },
    {
      "cell_type": "code",
      "metadata": {
        "id": "mqMhh1rzRhiU",
        "colab_type": "code",
        "colab": {},
        "outputId": "88353f39-3e7e-42ef-8b1a-b570c999418a"
      },
      "source": [
        "import tensorflow as tf\n",
        "const2 = tf.constant([[3,4,5], [3,4,5]]);tf\n",
        "const1 = tf.constant([[1,2,3], [1,2,3]]);\n",
        "result = tf.add(const1, const2);\n",
        "print(result)"
      ],
      "execution_count": 0,
      "outputs": [
        {
          "output_type": "stream",
          "text": [
            "tf.Tensor(\n",
            "[[4 6 8]\n",
            " [4 6 8]], shape=(2, 3), dtype=int32)\n"
          ],
          "name": "stdout"
        }
      ]
    },
    {
      "cell_type": "markdown",
      "metadata": {
        "id": "HUOWAEy4RhiX",
        "colab_type": "text"
      },
      "source": [
        ">We have defined two constants and we add one value to the other. \n",
        ">As a result, we got a Tensor object with the result of the adding. "
      ]
    },
    {
      "cell_type": "markdown",
      "metadata": {
        "id": "n3P_s7pxRhiY",
        "colab_type": "text"
      },
      "source": [
        "#### Random constant"
      ]
    },
    {
      "cell_type": "code",
      "metadata": {
        "id": "iWek6cnxRhiY",
        "colab_type": "code",
        "colab": {},
        "outputId": "caa8be5c-9d5d-4360-9504-84d4ed6f418d"
      },
      "source": [
        "tf.random.normal(shape=(2,2),mean=0,stddev=1.0)"
      ],
      "execution_count": 0,
      "outputs": [
        {
          "output_type": "execute_result",
          "data": {
            "text/plain": [
              "<tf.Tensor: id=38, shape=(2, 2), dtype=float32, numpy=\n",
              "array([[ 0.79373837,  1.3887426 ],\n",
              "       [-0.58256006, -1.5399069 ]], dtype=float32)>"
            ]
          },
          "metadata": {
            "tags": []
          },
          "execution_count": 24
        }
      ]
    },
    {
      "cell_type": "code",
      "metadata": {
        "id": "Hcd3oDLIRhib",
        "colab_type": "code",
        "colab": {},
        "outputId": "350be2f5-f3f7-4bfc-899d-8f5668cb1b11"
      },
      "source": [
        "tf.random.uniform(shape=(2,2),minval=0,maxval=10,dtype=tf.int32)"
      ],
      "execution_count": 0,
      "outputs": [
        {
          "output_type": "execute_result",
          "data": {
            "text/plain": [
              "<tf.Tensor: id=42, shape=(2, 2), dtype=int32, numpy=\n",
              "array([[1, 8],\n",
              "       [4, 5]])>"
            ]
          },
          "metadata": {
            "tags": []
          },
          "execution_count": 25
        }
      ]
    },
    {
      "cell_type": "code",
      "metadata": {
        "id": "rg6oucwvRhie",
        "colab_type": "code",
        "colab": {}
      },
      "source": [
        ""
      ],
      "execution_count": 0,
      "outputs": []
    },
    {
      "cell_type": "markdown",
      "metadata": {
        "id": "prpbtpzLRhii",
        "colab_type": "text"
      },
      "source": [
        "### Variables"
      ]
    },
    {
      "cell_type": "markdown",
      "metadata": {
        "id": "7Op9hQiURhij",
        "colab_type": "text"
      },
      "source": [
        ">A variable is a special tensor that is used to store variable values ​​and needs to be initialized with some values"
      ]
    },
    {
      "cell_type": "markdown",
      "metadata": {
        "id": "crF9v35xRhij",
        "colab_type": "text"
      },
      "source": [
        "#### Declaring variables"
      ]
    },
    {
      "cell_type": "code",
      "metadata": {
        "id": "j4nP5EN8Rhim",
        "colab_type": "code",
        "colab": {},
        "outputId": "10092a56-c402-4f3d-e6bb-2d669e00d46a"
      },
      "source": [
        "var0 = 24 # python variable\n",
        "var1 = tf.Variable(42) # rank 0 tensor\n",
        "var2 = tf.Variable([ [ [0., 1., 2.], [3., 4., 5.] ], [ [6., 7., 8.], [9., 10., 11.] ] ]) #rank 3 tensor\n",
        "var0, var1, var2"
      ],
      "execution_count": 0,
      "outputs": [
        {
          "output_type": "execute_result",
          "data": {
            "text/plain": [
              "(24,\n",
              " <tf.Variable 'Variable:0' shape=() dtype=int32, numpy=42>,\n",
              " <tf.Variable 'Variable:0' shape=(2, 2, 3) dtype=float32, numpy=\n",
              " array([[[ 0.,  1.,  2.],\n",
              "         [ 3.,  4.,  5.]],\n",
              " \n",
              "        [[ 6.,  7.,  8.],\n",
              "         [ 9., 10., 11.]]], dtype=float32)>)"
            ]
          },
          "metadata": {
            "tags": []
          },
          "execution_count": 26
        }
      ]
    },
    {
      "cell_type": "markdown",
      "metadata": {
        "id": "vlgwh7z0Rhio",
        "colab_type": "text"
      },
      "source": [
        ">TensorFlow will infer the datatype, defaulting to tf.float32 for floats and tf.int32 for integers"
      ]
    },
    {
      "cell_type": "markdown",
      "metadata": {
        "id": "Yos-hluhRhip",
        "colab_type": "text"
      },
      "source": [
        "#### The datatype can be explicitly specified"
      ]
    },
    {
      "cell_type": "code",
      "metadata": {
        "id": "2I7zzSerRhiq",
        "colab_type": "code",
        "colab": {},
        "outputId": "e4fc4823-7d02-4446-f562-36e613281377"
      },
      "source": [
        "float_var64 = tf.Variable(89, dtype = tf.float64)\n",
        "float_var64.dtype"
      ],
      "execution_count": 0,
      "outputs": [
        {
          "output_type": "execute_result",
          "data": {
            "text/plain": [
              "tf.float64"
            ]
          },
          "metadata": {
            "tags": []
          },
          "execution_count": 27
        }
      ]
    },
    {
      "cell_type": "markdown",
      "metadata": {
        "id": "3w-_qUt6Rhis",
        "colab_type": "text"
      },
      "source": [
        "`TensorFlow has a large number of built-in datatypes.`\n",
        "* tf.float16: 16-bit half-precision floating-point.\n",
        "* tf.float32: 32-bit single-precision floating-point.\n",
        "* tf.float64: 64-bit double-precision floating-point.\n",
        "* tf.bfloat16: 16-bit truncated floating-point.\n",
        "* tf.complex64: 64-bit single-precision complex.\n",
        "* tf.complex128: 128-bit double-precision complex.\n",
        "* tf.int8: 8-bit signed integer.\n",
        "* tf.uint8: 8-bit unsigned integer.\n",
        "* tf.uint16: 16-bit unsigned integer.\n",
        "* tf.uint32: 32-bit unsigned integer.\n",
        "* tf.uint64: 64-bit unsigned integer.\n",
        "* tf.int16: 16-bit signed integer.\n",
        "* tf.int32: 32-bit signed integer.\n",
        "* tf.int64: 64-bit signed integer.\n",
        "* tf.bool: Boolean.\n",
        "* tf.string: String.\n",
        "* tf.qint8: Quantized 8-bit signed integer.\n",
        "* tf.quint8: Quantized 8-bit unsigned integer.\n",
        "* tf.qint16: Quantized 16-bit signed integer.\n",
        "* tf.quint16: Quantized 16-bit unsigned integer.\n",
        "* tf.qint32: Quantized 32-bit signed integer.\n",
        "* tf.resource: Handle to a mutable resource.\n",
        "* tf.variant: Values of arbitrary types.\n"
      ]
    },
    {
      "cell_type": "markdown",
      "metadata": {
        "id": "g22n6VV1Rhit",
        "colab_type": "text"
      },
      "source": [
        "#### To reassign a variable, use var.assign()"
      ]
    },
    {
      "cell_type": "code",
      "metadata": {
        "id": "uW1u_tYHRhiu",
        "colab_type": "code",
        "colab": {},
        "outputId": "e982a419-813d-4c3f-b7be-2cdd4cbfa7bf"
      },
      "source": [
        "var_reassign = tf.Variable(89.)\n",
        "var_reassign"
      ],
      "execution_count": 0,
      "outputs": [
        {
          "output_type": "execute_result",
          "data": {
            "text/plain": [
              "<tf.Variable 'Variable:0' shape=() dtype=float32, numpy=89.0>"
            ]
          },
          "metadata": {
            "tags": []
          },
          "execution_count": 28
        }
      ]
    },
    {
      "cell_type": "code",
      "metadata": {
        "id": "zMln43puRhiy",
        "colab_type": "code",
        "colab": {},
        "outputId": "fa8cea87-8fd3-4e5e-98a1-addeafa53b7f"
      },
      "source": [
        "var_reassign.assign(98.)\n",
        "var_reassign"
      ],
      "execution_count": 0,
      "outputs": [
        {
          "output_type": "execute_result",
          "data": {
            "text/plain": [
              "<tf.Variable 'Variable:0' shape=() dtype=float32, numpy=98.0>"
            ]
          },
          "metadata": {
            "tags": []
          },
          "execution_count": 29
        }
      ]
    },
    {
      "cell_type": "code",
      "metadata": {
        "id": "Js_-NTVgRhi1",
        "colab_type": "code",
        "colab": {},
        "outputId": "8cd90df5-965d-451c-a4af-6303da3f9004"
      },
      "source": [
        "initial_value = tf.random.normal(shape=(2,2))\n",
        "a = tf.Variable(initial_value)\n",
        "print(a)"
      ],
      "execution_count": 0,
      "outputs": [
        {
          "output_type": "stream",
          "text": [
            "<tf.Variable 'Variable:0' shape=(2, 2) dtype=float32, numpy=\n",
            "array([[ 1.7069958 , -0.02613977],\n",
            "       [-0.6598021 , -1.0498033 ]], dtype=float32)>\n"
          ],
          "name": "stdout"
        }
      ]
    },
    {
      "cell_type": "markdown",
      "metadata": {
        "id": "KNu9aQ6BRhi3",
        "colab_type": "text"
      },
      "source": [
        ">We can assign \"=\" with assign (value), or assign_add (value) with \"+ =\", or assign_sub (value) with \"-=\""
      ]
    },
    {
      "cell_type": "code",
      "metadata": {
        "id": "vrYknYkhRhi4",
        "colab_type": "code",
        "colab": {}
      },
      "source": [
        "new_value = tf.random.normal(shape=(2, 2))\n",
        "a.assign(new_value)\n",
        "for i in range(2):\n",
        "    for j in range(2):\n",
        "        assert a[i, j] == new_value[i, j]"
      ],
      "execution_count": 0,
      "outputs": []
    },
    {
      "cell_type": "code",
      "metadata": {
        "id": "GARtmWvNRhi7",
        "colab_type": "code",
        "colab": {}
      },
      "source": [
        "added_value = tf.random.normal(shape=(2,2))\n",
        "a.assign_add(added_value)\n",
        "for i in range(2):\n",
        "    for j in range(2):\n",
        "        assert a[i,j] == new_value[i,j]+added_value[i,j]"
      ],
      "execution_count": 0,
      "outputs": []
    },
    {
      "cell_type": "markdown",
      "metadata": {
        "id": "RE-IfqrZRhi9",
        "colab_type": "text"
      },
      "source": [
        "#### Shaping a tensor"
      ]
    },
    {
      "cell_type": "code",
      "metadata": {
        "id": "8HU-7VnfRhi9",
        "colab_type": "code",
        "colab": {},
        "outputId": "918bed77-b147-423b-b7c6-169869bf0c6c"
      },
      "source": [
        "tensor = tf.Variable([ [ [10., 11., 12.], [13., 14., 15.] ], [ [16., 17., 18.], [19., 20., 21.] ] ]) # tensor variable\n",
        "print(tensor.shape)"
      ],
      "execution_count": 0,
      "outputs": [
        {
          "output_type": "stream",
          "text": [
            "(2, 2, 3)\n"
          ],
          "name": "stdout"
        }
      ]
    },
    {
      "cell_type": "markdown",
      "metadata": {
        "id": "WpvnLmwmRhjA",
        "colab_type": "text"
      },
      "source": [
        "#### Tensors can be reshaped and retain the same values which is required for constructing Neural networks."
      ]
    },
    {
      "cell_type": "code",
      "metadata": {
        "id": "0hwt8jJ2RhjB",
        "colab_type": "code",
        "colab": {},
        "outputId": "490fd5c2-1abb-421a-d404-12a800deff7d"
      },
      "source": [
        "tensor1 = tf.reshape(tensor,[2,6]) # 2 rows 6 cols\n",
        "#tensor2 = tf.reshape(tensor,[1,12]) # 1 rows 12 cols\n",
        "tensor1"
      ],
      "execution_count": 0,
      "outputs": [
        {
          "output_type": "execute_result",
          "data": {
            "text/plain": [
              "<tf.Tensor: id=210, shape=(2, 6), dtype=float32, numpy=\n",
              "array([[10., 11., 12., 13., 14., 15.],\n",
              "       [16., 17., 18., 19., 20., 21.]], dtype=float32)>"
            ]
          },
          "metadata": {
            "tags": []
          },
          "execution_count": 34
        }
      ]
    },
    {
      "cell_type": "code",
      "metadata": {
        "id": "hP86eALMRhjD",
        "colab_type": "code",
        "colab": {},
        "outputId": "c055ac39-9e15-45f8-ac82-7dd2f915c4ae"
      },
      "source": [
        "tensor2 = tf.reshape(tensor,[1,12]) # 1 row 12 columns\n",
        "tensor2"
      ],
      "execution_count": 0,
      "outputs": [
        {
          "output_type": "execute_result",
          "data": {
            "text/plain": [
              "<tf.Tensor: id=213, shape=(1, 12), dtype=float32, numpy=\n",
              "array([[10., 11., 12., 13., 14., 15., 16., 17., 18., 19., 20., 21.]],\n",
              "      dtype=float32)>"
            ]
          },
          "metadata": {
            "tags": []
          },
          "execution_count": 35
        }
      ]
    },
    {
      "cell_type": "markdown",
      "metadata": {
        "id": "G3eIC1m4RhjG",
        "colab_type": "text"
      },
      "source": [
        "### Rank of a tensor"
      ]
    },
    {
      "cell_type": "markdown",
      "metadata": {
        "id": "_xW16j2jRhjG",
        "colab_type": "text"
      },
      "source": [
        ">The rank of a tensor is defined as the number of dimensions, which is the number of indices that are required to specify any particular element of that tensor."
      ]
    },
    {
      "cell_type": "code",
      "metadata": {
        "id": "HExYTX3HRhjH",
        "colab_type": "code",
        "colab": {},
        "outputId": "1fe5c28d-4ffb-4c0d-da70-8327d4ff777c"
      },
      "source": [
        "tf.rank(tensor)"
      ],
      "execution_count": 0,
      "outputs": [
        {
          "output_type": "execute_result",
          "data": {
            "text/plain": [
              "<tf.Tensor: id=215, shape=(), dtype=int32, numpy=3>"
            ]
          },
          "metadata": {
            "tags": []
          },
          "execution_count": 36
        }
      ]
    },
    {
      "cell_type": "markdown",
      "metadata": {
        "id": "esOlccOtRhjK",
        "colab_type": "text"
      },
      "source": [
        ">(the shape is () because the output here is a scalar value)"
      ]
    },
    {
      "cell_type": "markdown",
      "metadata": {
        "id": "3F_gbhPjRhjL",
        "colab_type": "text"
      },
      "source": [
        "#### Specifying an element of a tensor"
      ]
    },
    {
      "cell_type": "code",
      "metadata": {
        "id": "XDN2c3QDRhjL",
        "colab_type": "code",
        "colab": {},
        "outputId": "eaa340aa-5ec8-4173-fc64-e5497c19df2c"
      },
      "source": [
        "tensor3 = tensor[1, 0, 2] # slice 1, row 0, column 2\n",
        "tensor3"
      ],
      "execution_count": 0,
      "outputs": [
        {
          "output_type": "execute_result",
          "data": {
            "text/plain": [
              "<tf.Tensor: id=220, shape=(), dtype=float32, numpy=18.0>"
            ]
          },
          "metadata": {
            "tags": []
          },
          "execution_count": 37
        }
      ]
    },
    {
      "cell_type": "markdown",
      "metadata": {
        "id": "L_9SSKsMRhjO",
        "colab_type": "text"
      },
      "source": [
        "#### Casting a tensor to a NumPy variable"
      ]
    },
    {
      "cell_type": "code",
      "metadata": {
        "id": "rRFyiMcVRhjO",
        "colab_type": "code",
        "colab": {},
        "outputId": "b9e3ecd3-ab60-4341-bc9d-10d343c80d6f"
      },
      "source": [
        "print(tensor.numpy())"
      ],
      "execution_count": 0,
      "outputs": [
        {
          "output_type": "stream",
          "text": [
            "[[[10. 11. 12.]\n",
            "  [13. 14. 15.]]\n",
            "\n",
            " [[16. 17. 18.]\n",
            "  [19. 20. 21.]]]\n"
          ],
          "name": "stdout"
        }
      ]
    },
    {
      "cell_type": "code",
      "metadata": {
        "id": "veoLzGOORhjS",
        "colab_type": "code",
        "colab": {},
        "outputId": "8fb20505-e19f-441e-b3ec-32c6aa2b3d08"
      },
      "source": [
        "print(tensor[1, 0, 2].numpy())"
      ],
      "execution_count": 0,
      "outputs": [
        {
          "output_type": "stream",
          "text": [
            "18.0\n"
          ],
          "name": "stdout"
        }
      ]
    },
    {
      "cell_type": "markdown",
      "metadata": {
        "id": "yv4V01S1RhjV",
        "colab_type": "text"
      },
      "source": [
        "#### Finding the size or length of a tensor"
      ]
    },
    {
      "cell_type": "code",
      "metadata": {
        "id": "E5tMRXR8RhjV",
        "colab_type": "code",
        "colab": {},
        "outputId": "d78d5938-8989-4e12-f7c4-73cb3c80e315"
      },
      "source": [
        "tensor_size = tf.size(input=tensor).numpy()\n",
        "tensor_size"
      ],
      "execution_count": 0,
      "outputs": [
        {
          "output_type": "execute_result",
          "data": {
            "text/plain": [
              "12"
            ]
          },
          "metadata": {
            "tags": []
          },
          "execution_count": 40
        }
      ]
    },
    {
      "cell_type": "code",
      "metadata": {
        "id": "fVoOSFc5RhjY",
        "colab_type": "code",
        "colab": {},
        "outputId": "71fc6359-d096-454f-af73-704d920499b7"
      },
      "source": [
        "#the datatype of a tensor\n",
        "tensor3.dtype"
      ],
      "execution_count": 0,
      "outputs": [
        {
          "output_type": "execute_result",
          "data": {
            "text/plain": [
              "tf.float32"
            ]
          },
          "metadata": {
            "tags": []
          },
          "execution_count": 41
        }
      ]
    },
    {
      "cell_type": "markdown",
      "metadata": {
        "id": "ogWfjOyNRhjb",
        "colab_type": "text"
      },
      "source": [
        "### Tensorflow mathematical operations\n",
        ">Can be used as numpy for artificial operations. Tensorflow can not execute these operations on the GPU or TPU.\n"
      ]
    },
    {
      "cell_type": "code",
      "metadata": {
        "id": "xFtiq6_5Rhjc",
        "colab_type": "code",
        "colab": {},
        "outputId": "ef4322d5-efbe-4f33-c91d-82bd97da30f9"
      },
      "source": [
        "a = tf.random.normal(shape=(2,2))\n",
        "b = tf.random.normal(shape=(2,2))\n",
        "c = a + b\n",
        "d = tf.square(c)\n",
        "e = tf.exp(c)\n",
        "print(a)\n",
        "print(b)\n",
        "print(c)\n",
        "print(d)\n",
        "print(e)"
      ],
      "execution_count": 0,
      "outputs": [
        {
          "output_type": "stream",
          "text": [
            "tf.Tensor(\n",
            "[[-1.2265512  -1.4969218 ]\n",
            " [ 0.01587692  0.5437373 ]], shape=(2, 2), dtype=float32)\n",
            "tf.Tensor(\n",
            "[[-0.90549344  0.50011796]\n",
            " [ 1.4741822  -0.03823759]], shape=(2, 2), dtype=float32)\n",
            "tf.Tensor(\n",
            "[[-2.1320446 -0.9968038]\n",
            " [ 1.4900591  0.5054997]], shape=(2, 2), dtype=float32)\n",
            "tf.Tensor(\n",
            "[[4.545614   0.99361783]\n",
            " [2.220276   0.25552997]], shape=(2, 2), dtype=float32)\n",
            "tf.Tensor(\n",
            "[[0.11859457 0.36905712]\n",
            " [4.4373584  1.6578138 ]], shape=(2, 2), dtype=float32)\n"
          ],
          "name": "stdout"
        }
      ]
    },
    {
      "cell_type": "markdown",
      "metadata": {
        "id": "QRfywknlRhjf",
        "colab_type": "text"
      },
      "source": [
        "### Performing element-wise primitive tensor operations"
      ]
    },
    {
      "cell_type": "code",
      "metadata": {
        "id": "k2_-11m7Rhjf",
        "colab_type": "code",
        "colab": {},
        "outputId": "42149be8-6bdd-40d4-909e-6368cb1f4758"
      },
      "source": [
        "tensor*tensor"
      ],
      "execution_count": 0,
      "outputs": [
        {
          "output_type": "execute_result",
          "data": {
            "text/plain": [
              "<tf.Tensor: id=246, shape=(2, 2, 3), dtype=float32, numpy=\n",
              "array([[[100., 121., 144.],\n",
              "        [169., 196., 225.]],\n",
              "\n",
              "       [[256., 289., 324.],\n",
              "        [361., 400., 441.]]], dtype=float32)>"
            ]
          },
          "metadata": {
            "tags": []
          },
          "execution_count": 43
        }
      ]
    },
    {
      "cell_type": "markdown",
      "metadata": {
        "id": "dwUZfYuPRhji",
        "colab_type": "text"
      },
      "source": [
        "### Broadcasting in Tensorflow\n",
        "\n",
        ">Element-wise tensor operations support broadcasting in the same way that NumPy arrays do.\n",
        "\n",
        ">The simplest example is multiplication of  a tensor by a scalar value."
      ]
    },
    {
      "cell_type": "code",
      "metadata": {
        "id": "LV0iYNOBRhjj",
        "colab_type": "code",
        "colab": {},
        "outputId": "a2c962dd-375e-4f50-b890-b7c4ed2fd066"
      },
      "source": [
        "tensor4 = tensor*4\n",
        "print(tensor4)"
      ],
      "execution_count": 0,
      "outputs": [
        {
          "output_type": "stream",
          "text": [
            "tf.Tensor(\n",
            "[[[40. 44. 48.]\n",
            "  [52. 56. 60.]]\n",
            "\n",
            " [[64. 68. 72.]\n",
            "  [76. 80. 84.]]], shape=(2, 2, 3), dtype=float32)\n"
          ],
          "name": "stdout"
        }
      ]
    },
    {
      "cell_type": "markdown",
      "metadata": {
        "id": "LQv9oyaSRhjm",
        "colab_type": "text"
      },
      "source": [
        "### Transpose Matrix multiplication"
      ]
    },
    {
      "cell_type": "code",
      "metadata": {
        "id": "DyALzt6PRhjm",
        "colab_type": "code",
        "colab": {},
        "outputId": "67734656-3de8-4158-80db-7adec5b26e7b"
      },
      "source": [
        "matrix_u = tf.constant([[6,7,6]])\n",
        "matrix_v = tf.constant([[3,4,3]])\n",
        "tf.matmul(matrix_u, tf.transpose(a=matrix_v))"
      ],
      "execution_count": 0,
      "outputs": [
        {
          "output_type": "execute_result",
          "data": {
            "text/plain": [
              "<tf.Tensor: id=254, shape=(1, 1), dtype=int32, numpy=array([[64]])>"
            ]
          },
          "metadata": {
            "tags": []
          },
          "execution_count": 45
        }
      ]
    },
    {
      "cell_type": "markdown",
      "metadata": {
        "id": "tqlgsputRhjv",
        "colab_type": "text"
      },
      "source": [
        "### Casting a tensor to another datatype"
      ]
    },
    {
      "cell_type": "code",
      "metadata": {
        "id": "W8LbQq1pRhjw",
        "colab_type": "code",
        "colab": {},
        "outputId": "859fdb2f-97bd-4931-b643-f47e184185b3"
      },
      "source": [
        "i = tf.cast(tensor1, dtype=tf.int32)\n",
        "i"
      ],
      "execution_count": 0,
      "outputs": [
        {
          "output_type": "execute_result",
          "data": {
            "text/plain": [
              "<tf.Tensor: id=255, shape=(2, 6), dtype=int32, numpy=\n",
              "array([[10, 11, 12, 13, 14, 15],\n",
              "       [16, 17, 18, 19, 20, 21]])>"
            ]
          },
          "metadata": {
            "tags": []
          },
          "execution_count": 46
        }
      ]
    },
    {
      "cell_type": "markdown",
      "metadata": {
        "id": "APSrtqj0Rhj0",
        "colab_type": "text"
      },
      "source": [
        "##### Casting with truncation"
      ]
    },
    {
      "cell_type": "code",
      "metadata": {
        "id": "Bb8NnYoURhj0",
        "colab_type": "code",
        "colab": {},
        "outputId": "ba72828c-fa04-41f0-fe56-74d9744e46fa"
      },
      "source": [
        "j = tf.cast(tf.constant(4.9), dtype=tf.int32)\n",
        "j"
      ],
      "execution_count": 0,
      "outputs": [
        {
          "output_type": "execute_result",
          "data": {
            "text/plain": [
              "<tf.Tensor: id=257, shape=(), dtype=int32, numpy=4>"
            ]
          },
          "metadata": {
            "tags": []
          },
          "execution_count": 47
        }
      ]
    },
    {
      "cell_type": "markdown",
      "metadata": {
        "id": "i0HXBXCBRhj3",
        "colab_type": "text"
      },
      "source": [
        "###  Ragged tensors"
      ]
    },
    {
      "cell_type": "markdown",
      "metadata": {
        "id": "j4k4jSCtRhj4",
        "colab_type": "text"
      },
      "source": [
        "`A ragged tensor is a tensor having one or more ragged dimensions. Ragged dimensions are dimensions that have slices having various lengths.There are a variety of methods for the declaration of ragged arrays, the simplest way is declaring a constant ragged array.`"
      ]
    },
    {
      "cell_type": "markdown",
      "metadata": {
        "id": "HUcfV9B-Rhj4",
        "colab_type": "text"
      },
      "source": [
        "#### Below example shows how to declare a constant ragged array"
      ]
    },
    {
      "cell_type": "code",
      "metadata": {
        "id": "Zta2l_TGRhj4",
        "colab_type": "code",
        "colab": {},
        "outputId": "fd5b73e8-8bde-47e6-91ab-55405c7b649b"
      },
      "source": [
        "ragged =tf.ragged.constant([[9, 7, 4, 3], [], [11, 12, 8], [3], [7,8]])\n",
        "print(ragged)\n",
        "print(ragged[0,:])\n",
        "print(ragged[1,:])\n",
        "print(ragged[2,:])\n",
        "print(ragged[3,:])\n",
        "print(ragged[4,:])"
      ],
      "execution_count": 0,
      "outputs": [
        {
          "output_type": "stream",
          "text": [
            "<tf.RaggedTensor [[9, 7, 4, 3], [], [11, 12, 8], [3], [7, 8]]>\n",
            "tf.Tensor([9 7 4 3], shape=(4,), dtype=int32)\n",
            "tf.Tensor([], shape=(0,), dtype=int32)\n",
            "tf.Tensor([11 12  8], shape=(3,), dtype=int32)\n",
            "tf.Tensor([3], shape=(1,), dtype=int32)\n",
            "tf.Tensor([7 8], shape=(2,), dtype=int32)\n"
          ],
          "name": "stdout"
        }
      ]
    },
    {
      "cell_type": "markdown",
      "metadata": {
        "id": "zH7sKgqNRhj8",
        "colab_type": "text"
      },
      "source": [
        "### Squared difference of tensors"
      ]
    },
    {
      "cell_type": "code",
      "metadata": {
        "id": "_nXKJycZRhj9",
        "colab_type": "code",
        "colab": {},
        "outputId": "cba7acde-60d0-44e7-b1b5-5bbec15455f3"
      },
      "source": [
        "varx = [4,5,6,1,2]\n",
        "vary = 8\n",
        "varz = tf.math.squared_difference(varx,vary)\n",
        "varz"
      ],
      "execution_count": 0,
      "outputs": [
        {
          "output_type": "execute_result",
          "data": {
            "text/plain": [
              "<tf.Tensor: shape=(5,), dtype=int32, numpy=array([16,  9,  4, 49, 36])>"
            ]
          },
          "metadata": {
            "tags": []
          },
          "execution_count": 38
        }
      ]
    },
    {
      "cell_type": "markdown",
      "metadata": {
        "id": "JiYuYJ4TRhkB",
        "colab_type": "text"
      },
      "source": [
        "#### Calculate the mean"
      ]
    },
    {
      "cell_type": "markdown",
      "metadata": {
        "id": "exWvWQAHRhkB",
        "colab_type": "text"
      },
      "source": [
        ">Function available\n",
        ">tf.reduce_mean()."
      ]
    },
    {
      "cell_type": "markdown",
      "metadata": {
        "id": "hGKfM1MhRhkC",
        "colab_type": "text"
      },
      "source": [
        "`Similar to np.mean, except that it infers the return datatype from the input tensor, whereas np.mean allows you to specify the output type`\n",
        "\n",
        "`tf.reduce_mean(input_tensor, axis=None, keepdims=None, name=None)`"
      ]
    },
    {
      "cell_type": "code",
      "metadata": {
        "id": "oVUwC3adRhkC",
        "colab_type": "code",
        "colab": {}
      },
      "source": [
        "# Defining a constant\n",
        "numbers = tf.constant([[8., 9.], [1., 2.]])"
      ],
      "execution_count": 0,
      "outputs": []
    },
    {
      "cell_type": "markdown",
      "metadata": {
        "id": "kP0ejTsmRhkG",
        "colab_type": "text"
      },
      "source": [
        "#### Calculate the mean across all axes"
      ]
    },
    {
      "cell_type": "code",
      "metadata": {
        "id": "ZVUQjY2xRhkH",
        "colab_type": "code",
        "colab": {},
        "outputId": "1c4a2ba0-f6b8-4df0-fba2-f67cb2beb683"
      },
      "source": [
        "tf.reduce_mean(input_tensor=numbers) #default axis = None"
      ],
      "execution_count": 0,
      "outputs": [
        {
          "output_type": "execute_result",
          "data": {
            "text/plain": [
              "<tf.Tensor: shape=(), dtype=float32, numpy=5.0>"
            ]
          },
          "metadata": {
            "tags": []
          },
          "execution_count": 40
        }
      ]
    },
    {
      "cell_type": "markdown",
      "metadata": {
        "id": "6qzEL9klRhkJ",
        "colab_type": "text"
      },
      "source": [
        "#### Calculate the mean across columns (reduce rows) with this:"
      ]
    },
    {
      "cell_type": "code",
      "metadata": {
        "id": "69tDJx8LRhkK",
        "colab_type": "code",
        "colab": {},
        "outputId": "e1749776-0d92-4bc3-9c03-5cf80a9ce1f3"
      },
      "source": [
        "tf.reduce_mean(input_tensor=numbers, axis=0)"
      ],
      "execution_count": 0,
      "outputs": [
        {
          "output_type": "execute_result",
          "data": {
            "text/plain": [
              "<tf.Tensor: shape=(2,), dtype=float32, numpy=array([4.5, 5.5], dtype=float32)>"
            ]
          },
          "metadata": {
            "tags": []
          },
          "execution_count": 41
        }
      ]
    },
    {
      "cell_type": "markdown",
      "metadata": {
        "id": "-E0LKBTdRhkP",
        "colab_type": "text"
      },
      "source": [
        "#### When keepdims = True"
      ]
    },
    {
      "cell_type": "code",
      "metadata": {
        "id": "WHERHB-9RhkQ",
        "colab_type": "code",
        "colab": {},
        "outputId": "46b81440-8bc8-4632-b8c2-718cbf538270"
      },
      "source": [
        "tf.reduce_mean(input_tensor=numbers, axis=0, keepdims=True) #the reduced axis is retained with a length of 1"
      ],
      "execution_count": 0,
      "outputs": [
        {
          "output_type": "execute_result",
          "data": {
            "text/plain": [
              "<tf.Tensor: shape=(1, 2), dtype=float32, numpy=array([[4.5, 5.5]], dtype=float32)>"
            ]
          },
          "metadata": {
            "tags": []
          },
          "execution_count": 42
        }
      ]
    },
    {
      "cell_type": "markdown",
      "metadata": {
        "id": "cbAbfQY8RhkW",
        "colab_type": "text"
      },
      "source": [
        "#### Calculate the mean across rows (reduce columns) with this:"
      ]
    },
    {
      "cell_type": "code",
      "metadata": {
        "id": "BLWTvhP7RhkX",
        "colab_type": "code",
        "colab": {},
        "outputId": "fd145c5d-db1a-4f08-97fd-a5ace841e844"
      },
      "source": [
        "tf.reduce_mean(input_tensor=numbers, axis=1)"
      ],
      "execution_count": 0,
      "outputs": [
        {
          "output_type": "execute_result",
          "data": {
            "text/plain": [
              "<tf.Tensor: shape=(2,), dtype=float32, numpy=array([8.5, 1.5], dtype=float32)>"
            ]
          },
          "metadata": {
            "tags": []
          },
          "execution_count": 43
        }
      ]
    },
    {
      "cell_type": "markdown",
      "metadata": {
        "id": "INxBMIPqRhkb",
        "colab_type": "text"
      },
      "source": [
        "#### When keepdims= True"
      ]
    },
    {
      "cell_type": "code",
      "metadata": {
        "id": "438gxwR3Rhkc",
        "colab_type": "code",
        "colab": {},
        "outputId": "8210aef5-d15c-41ce-d85e-1d5c72becd0e"
      },
      "source": [
        "tf.reduce_mean(input_tensor=numbers, axis=1, keepdims=True) #the reduced axis is retained with a length of 1"
      ],
      "execution_count": 0,
      "outputs": [
        {
          "output_type": "execute_result",
          "data": {
            "text/plain": [
              "<tf.Tensor: shape=(2, 1), dtype=float32, numpy=\n",
              "array([[8.5],\n",
              "       [1.5]], dtype=float32)>"
            ]
          },
          "metadata": {
            "tags": []
          },
          "execution_count": 44
        }
      ]
    },
    {
      "cell_type": "markdown",
      "metadata": {
        "id": "L9lkjB3ARhke",
        "colab_type": "text"
      },
      "source": [
        "####  Random values generation"
      ]
    },
    {
      "cell_type": "markdown",
      "metadata": {
        "id": "1ij15MkVRhkf",
        "colab_type": "text"
      },
      "source": [
        "##### tf.random.normal()\n",
        "\n",
        ">tf.random.normal() outputs a tensor of the given shape filled with values of the dtype type from a normal distribution.\n",
        "\n",
        ">The function is as follows:\n",
        "    \n",
        "`tf.random.normal(shape, mean = 0, stddev =2, dtype=tf.float32, seed=None, name=None)`"
      ]
    },
    {
      "cell_type": "code",
      "metadata": {
        "id": "Zed4bfdsRhki",
        "colab_type": "code",
        "colab": {},
        "outputId": "a93b973c-a683-46cd-ec7d-f123ace76620"
      },
      "source": [
        "tf.random.normal(shape = (3,2), mean=10, stddev=2, dtype=tf.float32, seed=None, name=None)\n",
        "randon_num = tf.random.normal(shape = (3,2), mean=10.0, stddev=2.0)\n",
        "print(randon_num)"
      ],
      "execution_count": 0,
      "outputs": [
        {
          "output_type": "stream",
          "text": [
            "tf.Tensor(\n",
            "[[11.926843 11.951866]\n",
            " [11.554054  8.495991]\n",
            " [11.13671  11.879669]], shape=(3, 2), dtype=float32)\n"
          ],
          "name": "stdout"
        }
      ]
    },
    {
      "cell_type": "markdown",
      "metadata": {
        "id": "wdKUoPWeRhko",
        "colab_type": "text"
      },
      "source": [
        "####  tf.random.uniform()"
      ]
    },
    {
      "cell_type": "markdown",
      "metadata": {
        "id": "R4CAGRdkRhkp",
        "colab_type": "text"
      },
      "source": [
        ">The function is this:\n",
        "    \n",
        ">tf.random.uniform(shape, minval = 0, maxval= None, dtype=tf.float32, seed=None, name=None)"
      ]
    },
    {
      "cell_type": "markdown",
      "metadata": {
        "id": "A7dzsrQQRhkp",
        "colab_type": "text"
      },
      "source": [
        "`This outputs a tensor of the given shape filled with values from a uniform distribution in the range minval to maxval, where the lower bound is inclusive but the upper bound isn't.\n",
        "\n",
        "Example:`"
      ]
    },
    {
      "cell_type": "code",
      "metadata": {
        "id": "W5sCO15BRhkp",
        "colab_type": "code",
        "colab": {},
        "outputId": "f025b1cd-e541-4f9a-edb6-3c1189ee6013"
      },
      "source": [
        "tf.random.uniform(shape = (2,4), minval=0, maxval=None, dtype=tf.float32, seed=None, name=None)"
      ],
      "execution_count": 0,
      "outputs": [
        {
          "output_type": "execute_result",
          "data": {
            "text/plain": [
              "<tf.Tensor: shape=(2, 4), dtype=float32, numpy=\n",
              "array([[0.24019718, 0.6144402 , 0.6651863 , 0.4577496 ],\n",
              "       [0.95334494, 0.8498589 , 0.86562073, 0.8837615 ]], dtype=float32)>"
            ]
          },
          "metadata": {
            "tags": []
          },
          "execution_count": 32
        }
      ]
    },
    {
      "cell_type": "markdown",
      "metadata": {
        "id": "yBX0f_iTRhks",
        "colab_type": "text"
      },
      "source": [
        "#### Setting the seed"
      ]
    },
    {
      "cell_type": "code",
      "metadata": {
        "id": "wI8P492eRhks",
        "colab_type": "code",
        "colab": {},
        "outputId": "0a3677d9-41f6-454a-8eb6-819bf47db095"
      },
      "source": [
        "tf.random.set_seed(11)\n",
        "random_num1 = tf.random.uniform(shape = (2,2), maxval=10, dtype = tf.int32)\n",
        "random_num2 = tf.random.uniform(shape = (2,2), maxval=10, dtype = tf.int32)\n",
        "print(random_num1) #Call 1\n",
        "print(random_num2)"
      ],
      "execution_count": 0,
      "outputs": [
        {
          "output_type": "stream",
          "text": [
            "tf.Tensor(\n",
            "[[4 6]\n",
            " [5 2]], shape=(2, 2), dtype=int32)\n",
            "tf.Tensor(\n",
            "[[9 7]\n",
            " [9 4]], shape=(2, 2), dtype=int32)\n"
          ],
          "name": "stdout"
        }
      ]
    },
    {
      "cell_type": "code",
      "metadata": {
        "id": "Erlh_y-8Rhku",
        "colab_type": "code",
        "colab": {},
        "outputId": "3aa05e31-5e6f-47a7-ea43-8b78dd6e7762"
      },
      "source": [
        "tf.random.set_seed(11) #same seed\n",
        "random_num1 = tf.random.uniform(shape = (2,2), maxval=10, dtype = tf.int32)\n",
        "random_num2 = tf.random.uniform(shape = (2,2), maxval=10, dtype = tf.int32)\n",
        "print(random_num1) #Call 2\n",
        "print(random_num2)"
      ],
      "execution_count": 0,
      "outputs": [
        {
          "output_type": "stream",
          "text": [
            "tf.Tensor(\n",
            "[[4 6]\n",
            " [5 2]], shape=(2, 2), dtype=int32)\n",
            "tf.Tensor(\n",
            "[[9 7]\n",
            " [9 4]], shape=(2, 2), dtype=int32)\n"
          ],
          "name": "stdout"
        }
      ]
    },
    {
      "cell_type": "markdown",
      "metadata": {
        "id": "D7mhROa2Rhkw",
        "colab_type": "text"
      },
      "source": [
        "#### Practical example of Random values using Dices"
      ]
    },
    {
      "cell_type": "code",
      "metadata": {
        "id": "rvgsOkmiRhkx",
        "colab_type": "code",
        "colab": {},
        "outputId": "9173e595-718d-4765-9867-1fa80e019a67"
      },
      "source": [
        "dice11 = tf.Variable(tf.random.uniform([10, 1], minval=1, maxval=7, dtype=tf.int32))\n",
        "dice12 = tf.Variable(tf.random.uniform([10, 1], minval=1, maxval=7, dtype=tf.int32))\n",
        "\n",
        "# lets ADD\n",
        "dice_sum1 = dice11 + dice12\n",
        "# We've got three separate 10x1 matrices. To produce a single 10x3 matrix, we'll concatenate them along dimension 1.\n",
        "finale_matrix = tf.concat(values=[dice11, dice12, dice_sum1], axis=1)\n",
        "print(finale_matrix)"
      ],
      "execution_count": 0,
      "outputs": [
        {
          "output_type": "stream",
          "text": [
            "tf.Tensor(\n",
            "[[ 2  2  4]\n",
            " [ 1  6  7]\n",
            " [ 6  1  7]\n",
            " [ 6  6 12]\n",
            " [ 4  4  8]\n",
            " [ 6  2  8]\n",
            " [ 5  6 11]\n",
            " [ 5  5 10]\n",
            " [ 4  6 10]\n",
            " [ 6  6 12]], shape=(10, 3), dtype=int32)\n"
          ],
          "name": "stdout"
        }
      ]
    },
    {
      "cell_type": "markdown",
      "metadata": {
        "id": "83yu8RWnRhkz",
        "colab_type": "text"
      },
      "source": [
        "#### Finding the indices of the largest and smallest element"
      ]
    },
    {
      "cell_type": "markdown",
      "metadata": {
        "id": "KZbxmHq2Rhkz",
        "colab_type": "text"
      },
      "source": [
        ">The following functions are available:\n",
        "    \n",
        ">`tf.argmax(input, axis=None, name=None, output_type=tf.int64 )`\n",
        "\n",
        ">`tf.argmin(input, axis=None, name=None, output_type=tf.int64 )`"
      ]
    },
    {
      "cell_type": "code",
      "metadata": {
        "id": "mLqi1liqRhk0",
        "colab_type": "code",
        "colab": {},
        "outputId": "9caece5b-5cf1-462e-aa2e-d02e846d16b0"
      },
      "source": [
        "# 1-D tensor\n",
        "tensor_1d = tf.constant([12, 11, 51, 42, 6, 16, -8, -19, 31])\n",
        "print(tensor_1d)\n",
        "\n",
        "\n",
        "i = tf.argmax(input=tensor_1d)\n",
        "print('index of max; ', i)\n",
        "print('Max element: ',tensor_1d[i].numpy())\n",
        "\n",
        "\n",
        "i = tf.argmin(input=tensor_1d,axis=0).numpy()\n",
        "print('index of min: ', i)\n",
        "print('Min element: ',tensor_1d[i].numpy())"
      ],
      "execution_count": 0,
      "outputs": [
        {
          "output_type": "stream",
          "text": [
            "tf.Tensor([ 12  11  51  42   6  16  -8 -19  31], shape=(9,), dtype=int32)\n",
            "index of max;  tf.Tensor(2, shape=(), dtype=int64)\n",
            "Max element:  51\n",
            "index of min:  7\n",
            "Min element:  -19\n"
          ],
          "name": "stdout"
        }
      ]
    },
    {
      "cell_type": "markdown",
      "metadata": {
        "id": "ATY_bXuYRhk9",
        "colab_type": "text"
      },
      "source": [
        "#### Saving and restoring using a checkpoint"
      ]
    },
    {
      "cell_type": "code",
      "metadata": {
        "id": "PP4hupJ1Rhk9",
        "colab_type": "code",
        "colab": {},
        "outputId": "e55eed58-955e-48ae-d518-453e279d5f79"
      },
      "source": [
        "variable1 = tf.Variable([[5,6,9,3],[14,15,16,18]])\n",
        "checkpoint= tf.train.Checkpoint(var=variable1)\n",
        "savepath = checkpoint.save('./vars')\n",
        "variable1.assign([[0,0,0,0],[0,0,0,0]])\n",
        "variable1\n",
        "checkpoint.restore(savepath)\n",
        "print(variable1)"
      ],
      "execution_count": 0,
      "outputs": [
        {
          "output_type": "stream",
          "text": [
            "<tf.Variable 'Variable:0' shape=(2, 4) dtype=int32, numpy=\n",
            "array([[ 5,  6,  9,  3],\n",
            "       [14, 15, 16, 18]])>\n"
          ],
          "name": "stdout"
        }
      ]
    },
    {
      "cell_type": "markdown",
      "metadata": {
        "id": "eYpEEbbORhlB",
        "colab_type": "text"
      },
      "source": [
        "#### Using tf.function\n",
        "\n",
        "`tf.function is a function that will take a Python function and return a TensorFlow graph. The advantage of this is that graphs can apply optimizations and exploit parallelism in the Python function (func). tf.function is new to TensorFlow 2.`\n"
      ]
    },
    {
      "cell_type": "markdown",
      "metadata": {
        "id": "jzI2r3IWRhlB",
        "colab_type": "text"
      },
      "source": [
        ">Its function is as follows:\n",
        "    \n",
        "`tf.function(\n",
        "func=None,input_signature=None,autograph=True,experimental_autograph_options=None\n",
        ")`\n"
      ]
    },
    {
      "cell_type": "code",
      "metadata": {
        "id": "hy9ZY07fRhlC",
        "colab_type": "code",
        "colab": {}
      },
      "source": [
        "def f1(x, y):\n",
        "    return tf.reduce_mean(input_tensor=tf.multiply(x ** 3, 6) + y**3)\n",
        "func = tf.function(f1)\n",
        "x = tf.constant([3., -4.])\n",
        "y = tf.constant([1., 4.])\n",
        "# f1 and f2 return the same value, but f2 executes as a TensorFlow graph\n",
        "assert f1(x,y).numpy() == func(x,y).numpy()\n",
        "#The assert passes, so there is no output"
      ],
      "execution_count": 0,
      "outputs": []
    },
    {
      "cell_type": "markdown",
      "metadata": {
        "id": "TNGYCA1fRhlG",
        "colab_type": "text"
      },
      "source": [
        "## Calculate the gradient"
      ]
    },
    {
      "cell_type": "markdown",
      "metadata": {
        "id": "rR9Zbw_GRhlG",
        "colab_type": "text"
      },
      "source": [
        "### GradientTape"
      ]
    },
    {
      "cell_type": "markdown",
      "metadata": {
        "id": "9PQXgAPvRhlH",
        "colab_type": "text"
      },
      "source": [
        ">Another difference from numpy is that it can automatically track the gradient of any variable.\n",
        "\n",
        ">Open one GradientTape and `tape.watch()` track variables through"
      ]
    },
    {
      "cell_type": "code",
      "metadata": {
        "id": "WTJWTUZtRhlH",
        "colab_type": "code",
        "colab": {},
        "outputId": "36c4bc24-e629-43df-bf1a-91095794d7cc"
      },
      "source": [
        "a = tf.random.normal(shape=(2,2))\n",
        "b = tf.random.normal(shape=(2,2))\n",
        "with tf.GradientTape() as tape:\n",
        "    tape.watch(a)\n",
        "    c = tf.sqrt(tf.square(a)+tf.square(b))\n",
        "    dc_da = tape.gradient(c,a)\n",
        "    print(dc_da)"
      ],
      "execution_count": 0,
      "outputs": [
        {
          "output_type": "stream",
          "text": [
            "tf.Tensor(\n",
            "[[-0.47931308 -0.9943058 ]\n",
            " [ 0.9353223   0.80492437]], shape=(2, 2), dtype=float32)\n"
          ],
          "name": "stdout"
        }
      ]
    },
    {
      "cell_type": "markdown",
      "metadata": {
        "id": "oocwx9-ORhlJ",
        "colab_type": "text"
      },
      "source": [
        ">For all variables, the calculation is tracked by default and used to find the gradient, so do not `usetape.watch()`"
      ]
    },
    {
      "cell_type": "code",
      "metadata": {
        "id": "vnzew4fQRhlK",
        "colab_type": "code",
        "colab": {},
        "outputId": "0e4b4a8f-e007-4010-9be6-88d1501844a0"
      },
      "source": [
        "a = tf.Variable(a)\n",
        "with tf.GradientTape() as tape:\n",
        "    c = tf.sqrt(tf.square(a)+tf.square(b))\n",
        "    dc_da = tape.gradient(c,a)\n",
        "    print(dc_da)"
      ],
      "execution_count": 0,
      "outputs": [
        {
          "output_type": "stream",
          "text": [
            "tf.Tensor(\n",
            "[[-0.47931308 -0.9943058 ]\n",
            " [ 0.9353223   0.80492437]], shape=(2, 2), dtype=float32)\n"
          ],
          "name": "stdout"
        }
      ]
    },
    {
      "cell_type": "markdown",
      "metadata": {
        "id": "yd9CvymARhlL",
        "colab_type": "text"
      },
      "source": [
        "> You can GradientTapefind higher-order derivatives by opening a few more:"
      ]
    },
    {
      "cell_type": "code",
      "metadata": {
        "id": "Yj-vTSgsRhlM",
        "colab_type": "code",
        "colab": {},
        "outputId": "2aa5ee84-d434-4ece-b3cd-b9f14cbf90ea"
      },
      "source": [
        "with tf.GradientTape() as outer_tape:\n",
        "    with tf.GradientTape() as tape:\n",
        "        c = tf.sqrt(tf.square(a)+tf.square(b))\n",
        "        dc_da = tape.gradient(c,a)\n",
        "    d2c_d2a = outer_tape.gradient(dc_da,a)\n",
        "    print(d2c_d2a)"
      ],
      "execution_count": 0,
      "outputs": [
        {
          "output_type": "stream",
          "text": [
            "tf.Tensor(\n",
            "[[0.5205455  0.00913197]\n",
            " [0.23476017 0.47745854]], shape=(2, 2), dtype=float32)\n"
          ],
          "name": "stdout"
        }
      ]
    },
    {
      "cell_type": "markdown",
      "metadata": {
        "id": "YvSvEfQoRhlQ",
        "colab_type": "text"
      },
      "source": [
        "# Keras, a High-Level API for TensorFlow 2"
      ]
    },
    {
      "cell_type": "markdown",
      "metadata": {
        "id": "_zRYvIIzRhlQ",
        "colab_type": "text"
      },
      "source": [
        "![title](img/keras.png)"
      ]
    },
    {
      "cell_type": "markdown",
      "metadata": {
        "id": "jGu_4KmlRhlR",
        "colab_type": "text"
      },
      "source": [
        "## The Keras Sequential model\n",
        "\n",
        "`To build a Keras Sequential model, you add layers to it in the same order that you want the computations to be undertaken by the network.`\n",
        "\n",
        "`After you have built your model, you compile it; this optimizes the computations that are to be undertaken, and is where you allocate the optimizer and the loss function you want your model to use.`\n",
        "\n",
        "`The next stage is to fit the model to the data. This is commonly known as training the model, and is where all the computations take place. It is possible to present the data to the model either in batches, or all at once.`\n",
        "\n",
        "`Next, you evaluate your model to establish its accuracy, loss, and other metrics. Finally, having trained your model, you can use it to make predictions on new data. So, the workflow is: build, compile, fit, evaluate, make predictions.`\n",
        "\n",
        "`There are two ways to create a Sequential model. Let's take a look at each of them.`"
      ]
    },
    {
      "cell_type": "markdown",
      "metadata": {
        "id": "AUa3Hyu_RhlR",
        "colab_type": "text"
      },
      "source": [
        "![title](img/kerasmodelling.png)"
      ]
    },
    {
      "cell_type": "markdown",
      "metadata": {
        "id": "uHeWIzy7RhlS",
        "colab_type": "text"
      },
      "source": [
        "### Using Sequential model\n",
        "\n",
        "`Firstly, you can pass a list of layer instances to the constructor, as in the following example.For now, we will just explain enough to allow you to understand what is happening here.`\n",
        "\n",
        "`Acquire the data. MNIST is a dataset of hand-drawn numerals, each on a 28 x 28 pixel grid. Every individual data point is an unsigned 8-bit integer (uint8), as are the labels:`"
      ]
    },
    {
      "cell_type": "markdown",
      "metadata": {
        "id": "Vhj24WaRRhlS",
        "colab_type": "text"
      },
      "source": [
        "#### Loading the datset"
      ]
    },
    {
      "cell_type": "code",
      "metadata": {
        "id": "fWfbdeWPRhlS",
        "colab_type": "code",
        "colab": {},
        "outputId": "9eb1c553-2fa1-4e9f-c761-1511f6708027"
      },
      "source": [
        "mnist_data = tf.keras.datasets.mnist\n",
        "(train_x,train_y), (test_x, test_y) = mnist_data.load_data()"
      ],
      "execution_count": 0,
      "outputs": [
        {
          "output_type": "stream",
          "text": [
            "Downloading data from https://storage.googleapis.com/tensorflow/tf-keras-datasets/mnist.npz\n",
            "11493376/11490434 [==============================] - 14s 1us/step\n"
          ],
          "name": "stdout"
        }
      ]
    },
    {
      "cell_type": "markdown",
      "metadata": {
        "id": "WBjMPeq4RhlU",
        "colab_type": "text"
      },
      "source": [
        "#### Definning the variables"
      ]
    },
    {
      "cell_type": "code",
      "metadata": {
        "id": "S-gHUdWVRhlU",
        "colab_type": "code",
        "colab": {}
      },
      "source": [
        "epochs=10\n",
        "batch_size = 32"
      ],
      "execution_count": 0,
      "outputs": []
    },
    {
      "cell_type": "code",
      "metadata": {
        "id": "aTQv7HGlRhlW",
        "colab_type": "code",
        "colab": {}
      },
      "source": [
        "# normalize all the data points and cast the labels to int64\n",
        "train_x, test_x = tf.cast(train_x/255.0, tf.float32), tf.cast(test_x/255.0, tf.float32)\n",
        "train_y, test_y = tf.cast(train_y,tf.int64),tf.cast(test_y,tf.int64)"
      ],
      "execution_count": 0,
      "outputs": []
    },
    {
      "cell_type": "markdown",
      "metadata": {
        "id": "o5NV7r_XRhla",
        "colab_type": "text"
      },
      "source": [
        "#### Building the Architecture "
      ]
    },
    {
      "cell_type": "code",
      "metadata": {
        "id": "HSDCldG5Rhlb",
        "colab_type": "code",
        "colab": {}
      },
      "source": [
        "mnistmodel1 = tf.keras.models.Sequential([\n",
        "tf.keras.layers.Flatten(),\n",
        "tf.keras.layers.Dense(512,activation=tf.nn.relu),\n",
        "tf.keras.layers.Dropout(0.2),\n",
        "tf.keras.layers.Dense(10,activation=tf.nn.softmax)\n",
        "])\n"
      ],
      "execution_count": 0,
      "outputs": []
    },
    {
      "cell_type": "markdown",
      "metadata": {
        "id": "0mf_FWRfRhle",
        "colab_type": "text"
      },
      "source": [
        "#### Compiling the model"
      ]
    },
    {
      "cell_type": "code",
      "metadata": {
        "id": "ItF0kRpqRhlf",
        "colab_type": "code",
        "colab": {}
      },
      "source": [
        "optimiser = tf.keras.optimizers.Adam()\n",
        "mnistmodel1.compile (optimizer= optimiser, loss='sparse_categorical_crossentropy', metrics = ['accuracy'])"
      ],
      "execution_count": 0,
      "outputs": []
    },
    {
      "cell_type": "markdown",
      "metadata": {
        "id": "SG2dqd5NRhlj",
        "colab_type": "text"
      },
      "source": [
        "#### Fitting the model"
      ]
    },
    {
      "cell_type": "code",
      "metadata": {
        "id": "4mAeOTpLRhlj",
        "colab_type": "code",
        "colab": {},
        "outputId": "7ae331ee-fa53-47ba-ee32-533f2432e035"
      },
      "source": [
        "mnistmodel1.fit(train_x, train_y, batch_size=32, epochs=5)"
      ],
      "execution_count": 0,
      "outputs": [
        {
          "output_type": "stream",
          "text": [
            "Train on 60000 samples\n",
            "Epoch 1/5\n",
            "60000/60000 [==============================] - 12s 205us/sample - loss: 0.2185 - accuracy: 0.9348\n",
            "Epoch 2/5\n",
            "60000/60000 [==============================] - 13s 208us/sample - loss: 0.0986 - accuracy: 0.9701\n",
            "Epoch 3/5\n",
            "60000/60000 [==============================] - 12s 193us/sample - loss: 0.0689 - accuracy: 0.9789\n",
            "Epoch 4/5\n",
            "60000/60000 [==============================] - 12s 193us/sample - loss: 0.0536 - accuracy: 0.9825\n",
            "Epoch 5/5\n",
            "60000/60000 [==============================] - 12s 199us/sample - loss: 0.0439 - accuracy: 0.9858\n"
          ],
          "name": "stdout"
        },
        {
          "output_type": "execute_result",
          "data": {
            "text/plain": [
              "<tensorflow.python.keras.callbacks.History at 0x1bc798fb548>"
            ]
          },
          "metadata": {
            "tags": []
          },
          "execution_count": 58
        }
      ]
    },
    {
      "cell_type": "markdown",
      "metadata": {
        "id": "4MxNW_jJRhlm",
        "colab_type": "text"
      },
      "source": [
        "#### Evaluate the mnistmodel1"
      ]
    },
    {
      "cell_type": "code",
      "metadata": {
        "id": "qiqSO64pRhlm",
        "colab_type": "code",
        "colab": {},
        "outputId": "56fae8ab-3762-4348-b92d-01d9d9d0bb76"
      },
      "source": [
        "mnistmodel1.evaluate(test_x, test_y)"
      ],
      "execution_count": 0,
      "outputs": [
        {
          "output_type": "stream",
          "text": [
            "10000/10000 [==============================] - 1s 108us/sample - loss: 0.0751 - accuracy: 0.9771\n"
          ],
          "name": "stdout"
        },
        {
          "output_type": "execute_result",
          "data": {
            "text/plain": [
              "[0.07506247069942765, 0.9771]"
            ]
          },
          "metadata": {
            "tags": []
          },
          "execution_count": 64
        }
      ]
    },
    {
      "cell_type": "markdown",
      "metadata": {
        "id": "lxiPSR_IRhlp",
        "colab_type": "text"
      },
      "source": [
        ">This represents a loss of 0.09 and an accuracy of 0.9801 on the test data. \n",
        "\n",
        ">An accuracy of 0.98 means that out of 100 test data points, 98 were, on average, correctly identified by the model."
      ]
    },
    {
      "cell_type": "code",
      "metadata": {
        "id": "NykAQqIpRhlq",
        "colab_type": "code",
        "colab": {}
      },
      "source": [
        "The second way to create a Sequential model\n",
        "The alternative to passing a list of layers to the Sequential model's constructor is to use the add method, as follows, for the same architecture:\n",
        "\n"
      ],
      "execution_count": 0,
      "outputs": []
    },
    {
      "cell_type": "markdown",
      "metadata": {
        "id": "hhZL24tMRhls",
        "colab_type": "text"
      },
      "source": [
        "#### Building the Architecture & Compiling"
      ]
    },
    {
      "cell_type": "code",
      "metadata": {
        "id": "yI0xdrPlRhls",
        "colab_type": "code",
        "colab": {}
      },
      "source": [
        "mnistmodel2 = tf.keras.models.Sequential();\n",
        "mnistmodel2.add(tf.keras.layers.Flatten())\n",
        "mnistmodel2.add(tf.keras.layers.Dense(512, activation='relu'))\n",
        "mnistmodel2.add(tf.keras.layers.Dropout(0.2))\n",
        "mnistmodel2.add(tf.keras.layers.Dense(10,activation=tf.nn.softmax))\n",
        "mnistmodel2.compile (optimizer= tf.keras.optimizers.Adam(), loss='sparse_categorical_crossentropy',metrics = ['accuracy'])"
      ],
      "execution_count": 0,
      "outputs": []
    },
    {
      "cell_type": "markdown",
      "metadata": {
        "id": "Am3Wi0iKRhlu",
        "colab_type": "text"
      },
      "source": [
        "#### Fitting the mnistmodel2"
      ]
    },
    {
      "cell_type": "code",
      "metadata": {
        "id": "9EFXcuKgRhlu",
        "colab_type": "code",
        "colab": {},
        "outputId": "21332df0-ec98-478f-dd10-2c5fa5440860"
      },
      "source": [
        "mnistmodel2.fit(train_x, train_y, batch_size=64, epochs=5)"
      ],
      "execution_count": 0,
      "outputs": [
        {
          "output_type": "stream",
          "text": [
            "Train on 60000 samples\n",
            "Epoch 1/5\n",
            "60000/60000 [==============================] - 6s 105us/sample - loss: 0.2445 - accuracy: 0.9281\n",
            "Epoch 2/5\n",
            "60000/60000 [==============================] - ETA: 0s - loss: 0.1054 - accuracy: 0.96 - 6s 96us/sample - loss: 0.1054 - accuracy: 0.9682\n",
            "Epoch 3/5\n",
            "60000/60000 [==============================] - 6s 105us/sample - loss: 0.0741 - accuracy: 0.9773\n",
            "Epoch 4/5\n",
            "60000/60000 [==============================] - 5s 86us/sample - loss: 0.0555 - accuracy: 0.9819\n",
            "Epoch 5/5\n",
            "60000/60000 [==============================] - 6s 92us/sample - loss: 0.0440 - accuracy: 0.9861\n"
          ],
          "name": "stdout"
        },
        {
          "output_type": "execute_result",
          "data": {
            "text/plain": [
              "<tensorflow.python.keras.callbacks.History at 0x22960c23888>"
            ]
          },
          "metadata": {
            "tags": []
          },
          "execution_count": 52
        }
      ]
    },
    {
      "cell_type": "markdown",
      "metadata": {
        "id": "QDs81c6GRhly",
        "colab_type": "text"
      },
      "source": [
        "#### Evaluate the mnistmodel2"
      ]
    },
    {
      "cell_type": "code",
      "metadata": {
        "id": "rGKSeIohRhl3",
        "colab_type": "code",
        "colab": {},
        "outputId": "9dd1ba68-2dab-4fd9-956b-082abb4afc71"
      },
      "source": [
        "mnistmodel2.evaluate(test_x, test_y)"
      ],
      "execution_count": 0,
      "outputs": [
        {
          "output_type": "stream",
          "text": [
            "10000/10000 [==============================] - 1s 90us/sample - loss: 0.0637 - accuracy: 0.9810\n"
          ],
          "name": "stdout"
        },
        {
          "output_type": "execute_result",
          "data": {
            "text/plain": [
              "[0.06365259396769106, 0.981]"
            ]
          },
          "metadata": {
            "tags": []
          },
          "execution_count": 53
        }
      ]
    },
    {
      "cell_type": "markdown",
      "metadata": {
        "id": "D4cOuwAiRhl_",
        "colab_type": "text"
      },
      "source": [
        "![title](img/kerasmodelling2.png)"
      ]
    },
    {
      "cell_type": "markdown",
      "metadata": {
        "id": "rxo73U03RhmA",
        "colab_type": "text"
      },
      "source": [
        "### Keras functional API\n",
        "\n",
        "`The functional API lets you build much more complex architectures than the simple linear stack of Sequential models we have seen previously. It also supports more advanced models. These models include multi-input and multi-output models, models with shared layers, and models with residual connections.`"
      ]
    },
    {
      "cell_type": "code",
      "metadata": {
        "id": "LvvKF6lDRhmB",
        "colab_type": "code",
        "colab": {}
      },
      "source": [
        "import tensorflow as tf\n",
        "mnist = tf.keras.datasets.mnist\n",
        "(train_x,train_y), (test_x, test_y) = mnist.load_data()\n",
        "train_x, test_x = train_x/255.0, test_x/255.0\n",
        "epochs=10\n"
      ],
      "execution_count": 0,
      "outputs": []
    },
    {
      "cell_type": "markdown",
      "metadata": {
        "id": "mc1pz3C5RhmD",
        "colab_type": "text"
      },
      "source": [
        "#### Building the Architecture"
      ]
    },
    {
      "cell_type": "code",
      "metadata": {
        "id": "ENAIZ17JRhmD",
        "colab_type": "code",
        "colab": {}
      },
      "source": [
        "inputs = tf.keras.Input(shape=(28,28)) # Returns a 'placeholder' tensor\n",
        "x = tf.keras.layers.Flatten()(inputs)\n",
        "x = tf.keras.layers.Dense(512, activation='relu',name='d1')(x)\n",
        "x = tf.keras.layers.Dropout(0.2)(x)\n",
        "predictions = tf.keras.layers.Dense(10,activation=tf.nn.softmax, name='d2')(x)\n",
        "mnistmodel3 = tf.keras.Model(inputs=inputs, outputs=predictions)"
      ],
      "execution_count": 0,
      "outputs": []
    },
    {
      "cell_type": "markdown",
      "metadata": {
        "id": "MAzu40Z0RhmG",
        "colab_type": "text"
      },
      "source": [
        "#### Compile & Fit"
      ]
    },
    {
      "cell_type": "code",
      "metadata": {
        "id": "Q-HgNNdKRhmG",
        "colab_type": "code",
        "colab": {}
      },
      "source": [
        "optimiser = tf.keras.optimizers.Adam()\n",
        "mnistmodel3.compile (optimizer= optimiser, loss='sparse_categorical_crossentropy', metrics = ['accuracy'])\n",
        "mnistmodel3.fit(train_x, train_y, batch_size=32, epochs=epochs)"
      ],
      "execution_count": 0,
      "outputs": []
    },
    {
      "cell_type": "markdown",
      "metadata": {
        "id": "9k0fsxi-RhmI",
        "colab_type": "text"
      },
      "source": [
        "#### Evaluate the mnistmodel3"
      ]
    },
    {
      "cell_type": "code",
      "metadata": {
        "id": "7eNOfplIRhmI",
        "colab_type": "code",
        "colab": {}
      },
      "source": [
        "mnistmodel3.evaluate(test_x, test_y)"
      ],
      "execution_count": 0,
      "outputs": []
    },
    {
      "cell_type": "markdown",
      "metadata": {
        "id": "KKhRchc5RhmN",
        "colab_type": "text"
      },
      "source": [
        "### Subclassing the Keras Model class"
      ]
    },
    {
      "cell_type": "code",
      "metadata": {
        "id": "nZ037KNYRhmP",
        "colab_type": "code",
        "colab": {}
      },
      "source": [
        "import tensorflow as tf"
      ],
      "execution_count": 0,
      "outputs": []
    },
    {
      "cell_type": "markdown",
      "metadata": {
        "id": "R7dUPH0zRhmT",
        "colab_type": "text"
      },
      "source": [
        "#### Building the subclass architecture"
      ]
    },
    {
      "cell_type": "code",
      "metadata": {
        "id": "3Bl6MYC1RhmT",
        "colab_type": "code",
        "colab": {}
      },
      "source": [
        "class MNISTModel(tf.keras.Model):\n",
        "    def __init__(self, num_classes=10):\n",
        "        super(MNISTModel, self).__init__()\n",
        "        # Define your layers here.\n",
        "        inputs = tf.keras.Input(shape=(28,28)) # Returns a placeholder tensor\n",
        "        self.x0 = tf.keras.layers.Flatten()\n",
        "        self.x1 = tf.keras.layers.Dense(512, activation='relu',name='d1')\n",
        "        self.x2 = tf.keras.layers.Dropout(0.2)\n",
        "        self.predictions = tf.keras.layers.Dense(10,activation=tf.nn.softmax, name='d2')\n",
        "\n",
        "\n",
        "    def call(self, inputs):\n",
        "    # This is where to define your forward pass\n",
        "    # using the layers previously defined in `__init__`\n",
        "        x = self.x0(inputs)\n",
        "        x = self.x1(x)\n",
        "        x = self.x2(x)\n",
        "        return self.predictions(x)"
      ],
      "execution_count": 0,
      "outputs": []
    },
    {
      "cell_type": "code",
      "metadata": {
        "id": "1EmAPvW4RhmU",
        "colab_type": "code",
        "colab": {}
      },
      "source": [
        "mnistmodel4 = MNISTModel()"
      ],
      "execution_count": 0,
      "outputs": []
    },
    {
      "cell_type": "markdown",
      "metadata": {
        "id": "VXcdYjvoRhmW",
        "colab_type": "text"
      },
      "source": [
        "#### Compile & Fit"
      ]
    },
    {
      "cell_type": "code",
      "metadata": {
        "id": "jKcBxfrdRhmW",
        "colab_type": "code",
        "colab": {},
        "outputId": "a70df613-8e9b-463f-ad24-ac01f5b25b7f"
      },
      "source": [
        "batch_size = 32\n",
        "steps_per_epoch = len(train_x.numpy())//batch_size\n",
        "print(steps_per_epoch)\n",
        "mnistmodel4.compile (optimizer= tf.keras.optimizers.Adam(), loss='sparse_categorical_crossentropy',metrics = ['accuracy'])\n",
        "mnistmodel4.fit(train_x, train_y, batch_size=batch_size, epochs=epochs)"
      ],
      "execution_count": 0,
      "outputs": [
        {
          "output_type": "stream",
          "text": [
            "1875\n",
            "Train on 60000 samples\n",
            "Epoch 1/10\n",
            "60000/60000 [==============================] - 12s 199us/sample - loss: 0.2182 - accuracy: 0.9355\n",
            "Epoch 2/10\n",
            "60000/60000 [==============================] - 12s 201us/sample - loss: 0.0961 - accuracy: 0.9709\n",
            "Epoch 3/10\n",
            "60000/60000 [==============================] - 12s 194us/sample - loss: 0.0697 - accuracy: 0.9783\n",
            "Epoch 4/10\n",
            "60000/60000 [==============================] - 12s 205us/sample - loss: 0.0536 - accuracy: 0.9826\n",
            "Epoch 5/10\n",
            "60000/60000 [==============================] - 12s 193us/sample - loss: 0.0424 - accuracy: 0.9861\n",
            "Epoch 6/10\n",
            "60000/60000 [==============================] - 12s 195us/sample - loss: 0.0363 - accuracy: 0.9878\n",
            "Epoch 7/10\n",
            "60000/60000 [==============================] - 11s 190us/sample - loss: 0.0304 - accuracy: 0.9890\n",
            "Epoch 8/10\n",
            "60000/60000 [==============================] - 12s 199us/sample - loss: 0.0276 - accuracy: 0.9906\n",
            "Epoch 9/10\n",
            "60000/60000 [==============================] - 12s 196us/sample - loss: 0.0244 - accuracy: 0.9913\n",
            "Epoch 10/10\n",
            "60000/60000 [==============================] - 12s 198us/sample - loss: 0.0219 - accuracy: 0.9925\n",
            "10000/10000 [==============================] - 1s 120us/sample - loss: 0.0698 - accuracy: 0.9837\n"
          ],
          "name": "stdout"
        },
        {
          "output_type": "execute_result",
          "data": {
            "text/plain": [
              "[0.06979138339359196, 0.9837]"
            ]
          },
          "metadata": {
            "tags": []
          },
          "execution_count": 71
        }
      ]
    },
    {
      "cell_type": "markdown",
      "metadata": {
        "id": "HPLZ8GJERhmZ",
        "colab_type": "text"
      },
      "source": [
        "#### Evaluate the mnistmodel4"
      ]
    },
    {
      "cell_type": "code",
      "metadata": {
        "id": "mYoQszFFRhma",
        "colab_type": "code",
        "colab": {}
      },
      "source": [
        "mnistmodel4.evaluate(test_x, test_y)"
      ],
      "execution_count": 0,
      "outputs": []
    }
  ]
}